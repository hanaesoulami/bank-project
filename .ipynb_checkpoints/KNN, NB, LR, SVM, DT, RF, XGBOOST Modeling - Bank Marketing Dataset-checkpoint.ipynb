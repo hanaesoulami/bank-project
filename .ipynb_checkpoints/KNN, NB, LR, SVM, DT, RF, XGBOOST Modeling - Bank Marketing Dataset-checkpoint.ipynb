{
 "cells": [
  {
   "cell_type": "markdown",
   "metadata": {},
   "source": [
    "# KNN, NB, LR, SVM, DT, RF, XGBOOST Modeling - Bank Marketing Dataset"
   ]
  },
  {
   "cell_type": "code",
   "execution_count": 1,
   "metadata": {},
   "outputs": [
    {
     "name": "stdout",
     "output_type": "stream",
     "text": [
      "/home/hanae/bank-project/venv/bin/python\n"
     ]
    }
   ],
   "source": [
    "import sys\n",
    "print(sys.executable)\n"
   ]
  },
  {
   "cell_type": "code",
   "execution_count": 2,
   "metadata": {
    "colab": {
     "base_uri": "https://localhost:8080/",
     "height": 71
    },
    "colab_type": "code",
    "executionInfo": {
     "elapsed": 2460,
     "status": "ok",
     "timestamp": 1589538019712,
     "user": {
      "displayName": "Sumedha Borde",
      "photoUrl": "",
      "userId": "11137176663827409941"
     },
     "user_tz": -330
    },
    "id": "yfzzXYuV9qdQ",
    "outputId": "b3fa2bc2-5e56-4173-83c8-b6b7d8c67351",
    "scrolled": true
   },
   "outputs": [],
   "source": [
    "# importing required Libraries\n",
    "import pandas as pd\n",
    "import seaborn as sns\n",
    "import matplotlib.pyplot as plt\n",
    "import numpy as np\n",
    "%matplotlib inline\n",
    "from sklearn.linear_model import LogisticRegression\n",
    "from sklearn.model_selection import GridSearchCV\n",
    "from sklearn.neighbors import KNeighborsClassifier\n",
    "from sklearn.metrics import classification_report, confusion_matrix\n",
    "from sklearn.model_selection import cross_val_score\n",
    "from sklearn.preprocessing import StandardScaler\n",
    "from sklearn.metrics import roc_auc_score,accuracy_score,recall_score\n",
    "from sklearn.metrics import roc_curve\n",
    "from sklearn.model_selection import train_test_split\n",
    "from sklearn.naive_bayes import GaussianNB\n",
    "from sklearn.metrics import accuracy_score\n",
    "from sklearn.svm import SVC\n",
    "from sklearn.tree import DecisionTreeClassifier\n",
    "from xgboost import XGBClassifier\n",
    "from sklearn.model_selection import StratifiedKFold\n",
    "from sklearn.ensemble import RandomForestClassifier\n",
    "import warnings\n",
    "warnings.filterwarnings('ignore')\n",
    "from sklearn.preprocessing import MinMaxScaler\n",
    "from sklearn.preprocessing import PolynomialFeatures\n"
   ]
  },
  {
   "cell_type": "code",
   "execution_count": 4,
   "metadata": {
    "colab": {},
    "colab_type": "code",
    "id": "iXmuqRSxQJkA"
   },
   "outputs": [],
   "source": [
    "#Reading Preprocessed data. First column is deleted because its index and redundant\n",
    "df=pd.read_csv(\"PreprocessedBank.csv\").drop(['Unnamed: 0'],axis=1)"
   ]
  },
  {
   "cell_type": "code",
   "execution_count": 5,
   "metadata": {
    "colab": {
     "base_uri": "https://localhost:8080/",
     "height": 253
    },
    "colab_type": "code",
    "executionInfo": {
     "elapsed": 1654,
     "status": "ok",
     "timestamp": 1589538032744,
     "user": {
      "displayName": "Sumedha Borde",
      "photoUrl": "",
      "userId": "11137176663827409941"
     },
     "user_tz": -330
    },
    "id": "j0yMHExyQJkV",
    "outputId": "19f526e9-a92f-4f6d-f4b4-8e6752b2df4e",
    "scrolled": true
   },
   "outputs": [
    {
     "data": {
      "text/html": [
       "<div>\n",
       "<style scoped>\n",
       "    .dataframe tbody tr th:only-of-type {\n",
       "        vertical-align: middle;\n",
       "    }\n",
       "\n",
       "    .dataframe tbody tr th {\n",
       "        vertical-align: top;\n",
       "    }\n",
       "\n",
       "    .dataframe thead th {\n",
       "        text-align: right;\n",
       "    }\n",
       "</style>\n",
       "<table border=\"1\" class=\"dataframe\">\n",
       "  <thead>\n",
       "    <tr style=\"text-align: right;\">\n",
       "      <th></th>\n",
       "      <th>age</th>\n",
       "      <th>default</th>\n",
       "      <th>balance</th>\n",
       "      <th>housing</th>\n",
       "      <th>loan</th>\n",
       "      <th>day</th>\n",
       "      <th>duration</th>\n",
       "      <th>campaign</th>\n",
       "      <th>pdays</th>\n",
       "      <th>previous</th>\n",
       "      <th>...</th>\n",
       "      <th>jun</th>\n",
       "      <th>mar</th>\n",
       "      <th>may</th>\n",
       "      <th>nov</th>\n",
       "      <th>oct</th>\n",
       "      <th>sep</th>\n",
       "      <th>failure</th>\n",
       "      <th>success</th>\n",
       "      <th>unknown</th>\n",
       "      <th>deposit</th>\n",
       "    </tr>\n",
       "  </thead>\n",
       "  <tbody>\n",
       "    <tr>\n",
       "      <th>0</th>\n",
       "      <td>59</td>\n",
       "      <td>1</td>\n",
       "      <td>2343</td>\n",
       "      <td>0</td>\n",
       "      <td>1</td>\n",
       "      <td>5</td>\n",
       "      <td>1042</td>\n",
       "      <td>1</td>\n",
       "      <td>-1</td>\n",
       "      <td>0</td>\n",
       "      <td>...</td>\n",
       "      <td>0</td>\n",
       "      <td>0</td>\n",
       "      <td>1</td>\n",
       "      <td>0</td>\n",
       "      <td>0</td>\n",
       "      <td>0</td>\n",
       "      <td>0</td>\n",
       "      <td>0</td>\n",
       "      <td>1</td>\n",
       "      <td>1</td>\n",
       "    </tr>\n",
       "    <tr>\n",
       "      <th>1</th>\n",
       "      <td>56</td>\n",
       "      <td>1</td>\n",
       "      <td>45</td>\n",
       "      <td>1</td>\n",
       "      <td>1</td>\n",
       "      <td>5</td>\n",
       "      <td>1467</td>\n",
       "      <td>1</td>\n",
       "      <td>-1</td>\n",
       "      <td>0</td>\n",
       "      <td>...</td>\n",
       "      <td>0</td>\n",
       "      <td>0</td>\n",
       "      <td>1</td>\n",
       "      <td>0</td>\n",
       "      <td>0</td>\n",
       "      <td>0</td>\n",
       "      <td>0</td>\n",
       "      <td>0</td>\n",
       "      <td>1</td>\n",
       "      <td>1</td>\n",
       "    </tr>\n",
       "    <tr>\n",
       "      <th>2</th>\n",
       "      <td>41</td>\n",
       "      <td>1</td>\n",
       "      <td>1270</td>\n",
       "      <td>0</td>\n",
       "      <td>1</td>\n",
       "      <td>5</td>\n",
       "      <td>1389</td>\n",
       "      <td>1</td>\n",
       "      <td>-1</td>\n",
       "      <td>0</td>\n",
       "      <td>...</td>\n",
       "      <td>0</td>\n",
       "      <td>0</td>\n",
       "      <td>1</td>\n",
       "      <td>0</td>\n",
       "      <td>0</td>\n",
       "      <td>0</td>\n",
       "      <td>0</td>\n",
       "      <td>0</td>\n",
       "      <td>1</td>\n",
       "      <td>1</td>\n",
       "    </tr>\n",
       "    <tr>\n",
       "      <th>3</th>\n",
       "      <td>55</td>\n",
       "      <td>1</td>\n",
       "      <td>2476</td>\n",
       "      <td>0</td>\n",
       "      <td>1</td>\n",
       "      <td>5</td>\n",
       "      <td>579</td>\n",
       "      <td>1</td>\n",
       "      <td>-1</td>\n",
       "      <td>0</td>\n",
       "      <td>...</td>\n",
       "      <td>0</td>\n",
       "      <td>0</td>\n",
       "      <td>1</td>\n",
       "      <td>0</td>\n",
       "      <td>0</td>\n",
       "      <td>0</td>\n",
       "      <td>0</td>\n",
       "      <td>0</td>\n",
       "      <td>1</td>\n",
       "      <td>1</td>\n",
       "    </tr>\n",
       "    <tr>\n",
       "      <th>4</th>\n",
       "      <td>54</td>\n",
       "      <td>1</td>\n",
       "      <td>184</td>\n",
       "      <td>1</td>\n",
       "      <td>1</td>\n",
       "      <td>5</td>\n",
       "      <td>673</td>\n",
       "      <td>2</td>\n",
       "      <td>-1</td>\n",
       "      <td>0</td>\n",
       "      <td>...</td>\n",
       "      <td>0</td>\n",
       "      <td>0</td>\n",
       "      <td>1</td>\n",
       "      <td>0</td>\n",
       "      <td>0</td>\n",
       "      <td>0</td>\n",
       "      <td>0</td>\n",
       "      <td>0</td>\n",
       "      <td>1</td>\n",
       "      <td>1</td>\n",
       "    </tr>\n",
       "  </tbody>\n",
       "</table>\n",
       "<p>5 rows × 43 columns</p>\n",
       "</div>"
      ],
      "text/plain": [
       "   age  default  balance  housing  loan  day  duration  campaign  pdays  \\\n",
       "0   59        1     2343        0     1    5      1042         1     -1   \n",
       "1   56        1       45        1     1    5      1467         1     -1   \n",
       "2   41        1     1270        0     1    5      1389         1     -1   \n",
       "3   55        1     2476        0     1    5       579         1     -1   \n",
       "4   54        1      184        1     1    5       673         2     -1   \n",
       "\n",
       "   previous  ...  jun  mar  may  nov  oct  sep  failure  success  unknown  \\\n",
       "0         0  ...    0    0    1    0    0    0        0        0        1   \n",
       "1         0  ...    0    0    1    0    0    0        0        0        1   \n",
       "2         0  ...    0    0    1    0    0    0        0        0        1   \n",
       "3         0  ...    0    0    1    0    0    0        0        0        1   \n",
       "4         0  ...    0    0    1    0    0    0        0        0        1   \n",
       "\n",
       "   deposit  \n",
       "0        1  \n",
       "1        1  \n",
       "2        1  \n",
       "3        1  \n",
       "4        1  \n",
       "\n",
       "[5 rows x 43 columns]"
      ]
     },
     "execution_count": 5,
     "metadata": {},
     "output_type": "execute_result"
    }
   ],
   "source": [
    "#dispaly first 5 rows\n",
    "df.head()"
   ]
  },
  {
   "cell_type": "code",
   "execution_count": 6,
   "metadata": {
    "colab": {
     "base_uri": "https://localhost:8080/",
     "height": 253
    },
    "colab_type": "code",
    "executionInfo": {
     "elapsed": 1513,
     "status": "ok",
     "timestamp": 1589538036650,
     "user": {
      "displayName": "Sumedha Borde",
      "photoUrl": "",
      "userId": "11137176663827409941"
     },
     "user_tz": -330
    },
    "id": "3gZKt5i9QJkq",
    "outputId": "ffdfd42a-af2f-41ba-ed7a-ecfda85c9622",
    "scrolled": true
   },
   "outputs": [
    {
     "data": {
      "text/html": [
       "<div>\n",
       "<style scoped>\n",
       "    .dataframe tbody tr th:only-of-type {\n",
       "        vertical-align: middle;\n",
       "    }\n",
       "\n",
       "    .dataframe tbody tr th {\n",
       "        vertical-align: top;\n",
       "    }\n",
       "\n",
       "    .dataframe thead th {\n",
       "        text-align: right;\n",
       "    }\n",
       "</style>\n",
       "<table border=\"1\" class=\"dataframe\">\n",
       "  <thead>\n",
       "    <tr style=\"text-align: right;\">\n",
       "      <th></th>\n",
       "      <th>age</th>\n",
       "      <th>default</th>\n",
       "      <th>balance</th>\n",
       "      <th>housing</th>\n",
       "      <th>loan</th>\n",
       "      <th>day</th>\n",
       "      <th>duration</th>\n",
       "      <th>campaign</th>\n",
       "      <th>pdays</th>\n",
       "      <th>previous</th>\n",
       "      <th>...</th>\n",
       "      <th>jul</th>\n",
       "      <th>jun</th>\n",
       "      <th>mar</th>\n",
       "      <th>may</th>\n",
       "      <th>nov</th>\n",
       "      <th>oct</th>\n",
       "      <th>sep</th>\n",
       "      <th>failure</th>\n",
       "      <th>success</th>\n",
       "      <th>unknown</th>\n",
       "    </tr>\n",
       "  </thead>\n",
       "  <tbody>\n",
       "    <tr>\n",
       "      <th>0</th>\n",
       "      <td>1.491505</td>\n",
       "      <td>0.123617</td>\n",
       "      <td>0.252525</td>\n",
       "      <td>-1.055280</td>\n",
       "      <td>0.387923</td>\n",
       "      <td>-1.265746</td>\n",
       "      <td>1.930226</td>\n",
       "      <td>-0.554168</td>\n",
       "      <td>-0.481184</td>\n",
       "      <td>-0.36326</td>\n",
       "      <td>...</td>\n",
       "      <td>-0.396136</td>\n",
       "      <td>-0.350625</td>\n",
       "      <td>-0.159228</td>\n",
       "      <td>1.718298</td>\n",
       "      <td>-0.303775</td>\n",
       "      <td>-0.190781</td>\n",
       "      <td>-0.171522</td>\n",
       "      <td>-0.35159</td>\n",
       "      <td>-0.325782</td>\n",
       "      <td>0.583626</td>\n",
       "    </tr>\n",
       "    <tr>\n",
       "      <th>1</th>\n",
       "      <td>1.239676</td>\n",
       "      <td>0.123617</td>\n",
       "      <td>-0.459974</td>\n",
       "      <td>0.947616</td>\n",
       "      <td>0.387923</td>\n",
       "      <td>-1.265746</td>\n",
       "      <td>3.154612</td>\n",
       "      <td>-0.554168</td>\n",
       "      <td>-0.481184</td>\n",
       "      <td>-0.36326</td>\n",
       "      <td>...</td>\n",
       "      <td>-0.396136</td>\n",
       "      <td>-0.350625</td>\n",
       "      <td>-0.159228</td>\n",
       "      <td>1.718298</td>\n",
       "      <td>-0.303775</td>\n",
       "      <td>-0.190781</td>\n",
       "      <td>-0.171522</td>\n",
       "      <td>-0.35159</td>\n",
       "      <td>-0.325782</td>\n",
       "      <td>0.583626</td>\n",
       "    </tr>\n",
       "    <tr>\n",
       "      <th>2</th>\n",
       "      <td>-0.019470</td>\n",
       "      <td>0.123617</td>\n",
       "      <td>-0.080160</td>\n",
       "      <td>-1.055280</td>\n",
       "      <td>0.387923</td>\n",
       "      <td>-1.265746</td>\n",
       "      <td>2.929901</td>\n",
       "      <td>-0.554168</td>\n",
       "      <td>-0.481184</td>\n",
       "      <td>-0.36326</td>\n",
       "      <td>...</td>\n",
       "      <td>-0.396136</td>\n",
       "      <td>-0.350625</td>\n",
       "      <td>-0.159228</td>\n",
       "      <td>1.718298</td>\n",
       "      <td>-0.303775</td>\n",
       "      <td>-0.190781</td>\n",
       "      <td>-0.171522</td>\n",
       "      <td>-0.35159</td>\n",
       "      <td>-0.325782</td>\n",
       "      <td>0.583626</td>\n",
       "    </tr>\n",
       "    <tr>\n",
       "      <th>3</th>\n",
       "      <td>1.155733</td>\n",
       "      <td>0.123617</td>\n",
       "      <td>0.293762</td>\n",
       "      <td>-1.055280</td>\n",
       "      <td>0.387923</td>\n",
       "      <td>-1.265746</td>\n",
       "      <td>0.596366</td>\n",
       "      <td>-0.554168</td>\n",
       "      <td>-0.481184</td>\n",
       "      <td>-0.36326</td>\n",
       "      <td>...</td>\n",
       "      <td>-0.396136</td>\n",
       "      <td>-0.350625</td>\n",
       "      <td>-0.159228</td>\n",
       "      <td>1.718298</td>\n",
       "      <td>-0.303775</td>\n",
       "      <td>-0.190781</td>\n",
       "      <td>-0.171522</td>\n",
       "      <td>-0.35159</td>\n",
       "      <td>-0.325782</td>\n",
       "      <td>0.583626</td>\n",
       "    </tr>\n",
       "    <tr>\n",
       "      <th>4</th>\n",
       "      <td>1.071790</td>\n",
       "      <td>0.123617</td>\n",
       "      <td>-0.416876</td>\n",
       "      <td>0.947616</td>\n",
       "      <td>0.387923</td>\n",
       "      <td>-1.265746</td>\n",
       "      <td>0.867171</td>\n",
       "      <td>-0.186785</td>\n",
       "      <td>-0.481184</td>\n",
       "      <td>-0.36326</td>\n",
       "      <td>...</td>\n",
       "      <td>-0.396136</td>\n",
       "      <td>-0.350625</td>\n",
       "      <td>-0.159228</td>\n",
       "      <td>1.718298</td>\n",
       "      <td>-0.303775</td>\n",
       "      <td>-0.190781</td>\n",
       "      <td>-0.171522</td>\n",
       "      <td>-0.35159</td>\n",
       "      <td>-0.325782</td>\n",
       "      <td>0.583626</td>\n",
       "    </tr>\n",
       "  </tbody>\n",
       "</table>\n",
       "<p>5 rows × 42 columns</p>\n",
       "</div>"
      ],
      "text/plain": [
       "        age   default   balance   housing      loan       day  duration  \\\n",
       "0  1.491505  0.123617  0.252525 -1.055280  0.387923 -1.265746  1.930226   \n",
       "1  1.239676  0.123617 -0.459974  0.947616  0.387923 -1.265746  3.154612   \n",
       "2 -0.019470  0.123617 -0.080160 -1.055280  0.387923 -1.265746  2.929901   \n",
       "3  1.155733  0.123617  0.293762 -1.055280  0.387923 -1.265746  0.596366   \n",
       "4  1.071790  0.123617 -0.416876  0.947616  0.387923 -1.265746  0.867171   \n",
       "\n",
       "   campaign     pdays  previous  ...       jul       jun       mar       may  \\\n",
       "0 -0.554168 -0.481184  -0.36326  ... -0.396136 -0.350625 -0.159228  1.718298   \n",
       "1 -0.554168 -0.481184  -0.36326  ... -0.396136 -0.350625 -0.159228  1.718298   \n",
       "2 -0.554168 -0.481184  -0.36326  ... -0.396136 -0.350625 -0.159228  1.718298   \n",
       "3 -0.554168 -0.481184  -0.36326  ... -0.396136 -0.350625 -0.159228  1.718298   \n",
       "4 -0.186785 -0.481184  -0.36326  ... -0.396136 -0.350625 -0.159228  1.718298   \n",
       "\n",
       "        nov       oct       sep  failure   success   unknown  \n",
       "0 -0.303775 -0.190781 -0.171522 -0.35159 -0.325782  0.583626  \n",
       "1 -0.303775 -0.190781 -0.171522 -0.35159 -0.325782  0.583626  \n",
       "2 -0.303775 -0.190781 -0.171522 -0.35159 -0.325782  0.583626  \n",
       "3 -0.303775 -0.190781 -0.171522 -0.35159 -0.325782  0.583626  \n",
       "4 -0.303775 -0.190781 -0.171522 -0.35159 -0.325782  0.583626  \n",
       "\n",
       "[5 rows x 42 columns]"
      ]
     },
     "execution_count": 6,
     "metadata": {},
     "output_type": "execute_result"
    }
   ],
   "source": [
    "#Standardisation of Data\n",
    "scaler=StandardScaler()\n",
    "scaler.fit(df.drop('deposit',axis=1))\n",
    "scaled_features=scaler.transform(df.drop('deposit',axis=1))\n",
    "df_feat=pd.DataFrame(scaled_features,columns=df.columns[:-1])\n",
    "df_feat.head()"
   ]
  },
  {
   "cell_type": "markdown",
   "metadata": {},
   "source": [
    "**Notes :** \n",
    "1. Algorithms like KNN, Naive bayes, Logistic Regression and SVM require Standardised Data\n",
    "2. Tree based Algorithms are scale independant\n",
    "3. standardisation basically subtracts mean and divides std deviation of column from each value"
   ]
  },
  {
   "cell_type": "markdown",
   "metadata": {},
   "source": [
    "# Train Test Split"
   ]
  },
  {
   "cell_type": "code",
   "execution_count": 7,
   "metadata": {
    "colab": {},
    "colab_type": "code",
    "id": "mNhdtNgmQJk3"
   },
   "outputs": [],
   "source": [
    "# 30% Data is set aside for tesing\n",
    "X_train,X_test,y_train,y_test=train_test_split(scaled_features,df['deposit'],test_size=0.30, random_state=3)"
   ]
  },
  {
   "cell_type": "markdown",
   "metadata": {
    "colab_type": "text",
    "id": "cpycwzVoQJlQ"
   },
   "source": [
    "# Applying KNN"
   ]
  },
  {
   "cell_type": "code",
   "execution_count": 8,
   "metadata": {
    "colab": {
     "base_uri": "https://localhost:8080/",
     "height": 54
    },
    "colab_type": "code",
    "executionInfo": {
     "elapsed": 12513,
     "status": "ok",
     "timestamp": 1589443343365,
     "user": {
      "displayName": "Sumedha Borde",
      "photoUrl": "",
      "userId": "11137176663827409941"
     },
     "user_tz": -330
    },
    "id": "30wf0zi-QJlW",
    "outputId": "4692e168-eabb-4220-d321-2cedd6e7e91d"
   },
   "outputs": [
    {
     "name": "stdout",
     "output_type": "stream",
     "text": [
      "[np.float64(0.728145763677625), np.float64(0.7556652399867703), np.float64(0.7614259376299649), np.float64(0.7620659787602622), np.float64(0.7641156167416029), np.float64(0.7610418147106307), np.float64(0.7593762996486241), np.float64(0.7578411178533653), np.float64(0.7560493629061044), np.float64(0.7560495266413642), np.float64(0.7531065490829187), np.float64(0.7538739762452884), np.float64(0.7509314898926224), np.float64(0.7488831617933596), np.float64(0.7499069983724714), np.float64(0.747474219883355), np.float64(0.7472183016723919), np.float64(0.7474753660301732), np.float64(0.7472196115544698), np.float64(0.7465807165709907)]\n"
     ]
    }
   ],
   "source": [
    "# trying different odd values of k for KNN and finding accuracy for them\n",
    "\n",
    "knn = KNeighborsClassifier(n_neighbors=1)\n",
    "accuracy_rate=[]\n",
    "for i in range(1,40,2):\n",
    "    knn=KNeighborsClassifier(n_neighbors=i)\n",
    "    score=cross_val_score(knn,X_train,y_train,cv=10)\n",
    "    accuracy_rate.append(score.mean())\n",
    "print(accuracy_rate)"
   ]
  },
  {
   "cell_type": "code",
   "execution_count": 9,
   "metadata": {
    "colab": {
     "base_uri": "https://localhost:8080/",
     "height": 607
    },
    "colab_type": "code",
    "executionInfo": {
     "elapsed": 2015,
     "status": "ok",
     "timestamp": 1589443350674,
     "user": {
      "displayName": "Sumedha Borde",
      "photoUrl": "",
      "userId": "11137176663827409941"
     },
     "user_tz": -330
    },
    "id": "G_it_tk9QJlk",
    "outputId": "9fc99fc5-fc11-4259-8558-73f9a1396bc9"
   },
   "outputs": [
    {
     "data": {
      "text/plain": [
       "Text(0, 0.5, 'Accuracy rate')"
      ]
     },
     "execution_count": 9,
     "metadata": {},
     "output_type": "execute_result"
    },
    {
     "data": {
      "image/png": "[encoded data removed]",
      "text/plain": [
       "<Figure size 2000x1200 with 1 Axes>"
      ]
     },
     "metadata": {},
     "output_type": "display_data"
    }
   ],
   "source": [
    "# plotting accuracy of KNN for every value of K. Accuracy is highest when K=9\n",
    "\n",
    "plt.figure(figsize=(20,12))\n",
    "plt.plot(range(1,40,2),accuracy_rate,color='green',linestyle='dashed',marker='o',markerfacecolor='yellow',markersize=10)\n",
    "plt.title('Accuracy rate vs k value')\n",
    "plt.xlabel('k')\n",
    "plt.ylabel('Accuracy rate')"
   ]
  },
  {
   "cell_type": "code",
   "execution_count": 10,
   "metadata": {
    "colab": {
     "base_uri": "https://localhost:8080/",
     "height": 255
    },
    "colab_type": "code",
    "executionInfo": {
     "elapsed": 1974,
     "status": "ok",
     "timestamp": 1589443360112,
     "user": {
      "displayName": "Sumedha Borde",
      "photoUrl": "",
      "userId": "11137176663827409941"
     },
     "user_tz": -330
    },
    "id": "yT7qKVPaQJlt",
    "outputId": "90d4404c-747e-4f18-c158-7379f18eb1d7",
    "scrolled": true
   },
   "outputs": [
    {
     "name": "stdout",
     "output_type": "stream",
     "text": [
      "[[1484  290]\n",
      " [ 554 1021]]\n",
      "              precision    recall  f1-score   support\n",
      "\n",
      "           0       0.73      0.84      0.78      1774\n",
      "           1       0.78      0.65      0.71      1575\n",
      "\n",
      "    accuracy                           0.75      3349\n",
      "   macro avg       0.75      0.74      0.74      3349\n",
      "weighted avg       0.75      0.75      0.75      3349\n",
      "\n",
      "AUC score for KNN is  0.8285929027755408\n",
      "Test Accuracy score for KNN is  0.7479844729770081\n",
      "Train Accuracy score for KNN is  0.8123640087034429\n"
     ]
    }
   ],
   "source": [
    "    # TRaining KNN agaib for best value of K\n",
    "    # Finding Accuracy, AUC, False positive rate, True positive rate, confusion matrix and classificatio report\n",
    "\n",
    "    knn = KNeighborsClassifier(n_neighbors=9)\n",
    "    knn.fit(X_train,y_train)\n",
    "    pred=knn.predict(X_test)\n",
    "    y_pred_prob = knn.predict_proba(X_test)\n",
    "    aucScoreKNN = roc_auc_score(y_test,  y_pred_prob[:,1])\n",
    "    fprKNN, tprKNN, thresholds = roc_curve(y_test, y_pred_prob[:,1] )\n",
    "    print(confusion_matrix(y_test,pred))\n",
    "    print(classification_report(y_test,pred))\n",
    "    print(\"AUC score for KNN is \",aucScoreKNN)\n",
    "    print(\"Test Accuracy score for KNN is \",accuracy_score(y_test, pred))\n",
    "    predT=knn.predict(X_train)\n",
    "    print(\"Train Accuracy score for KNN is \",accuracy_score(y_train, predT))\n",
    "    #print(\"Best parameters for KNN are \",knn.best_params_)\n"
   ]
  },
  {
   "cell_type": "code",
   "execution_count": 11,
   "metadata": {
    "colab": {
     "base_uri": "https://localhost:8080/",
     "height": 54
    },
    "colab_type": "code",
    "executionInfo": {
     "elapsed": 12261,
     "status": "ok",
     "timestamp": 1589538817945,
     "user": {
      "displayName": "Sumedha Borde",
      "photoUrl": "",
      "userId": "11137176663827409941"
     },
     "user_tz": -330
    },
    "id": "PrYW47VF4Xbj",
    "outputId": "8621fcec-6d7b-4afc-b40b-b5e672f91d62"
   },
   "outputs": [
    {
     "name": "stdout",
     "output_type": "stream",
     "text": [
      "[np.float64(0.6777178796046721), np.float64(0.6962901776657102), np.float64(0.6852599773932702), np.float64(0.6779939425557198), np.float64(0.6707184882473988), np.float64(0.6615634872329942), np.float64(0.6542873083499986), np.float64(0.6480979914790017), np.float64(0.6411007738457525), np.float64(0.6357150102889604), np.float64(0.6308712285888184), np.float64(0.6273708083355071), np.float64(0.6206438570559082), np.float64(0.6147190099411646), np.float64(0.6136408428252615), np.float64(0.605561835202736), np.float64(0.6050205779207605), np.float64(0.603407674694954), np.float64(0.6009854215575458), np.float64(0.6001818682433411)]\n"
     ]
    }
   ],
   "source": [
    "# Training KNN for different odd values of K to find maximum Recall\n",
    "\n",
    "knn = KNeighborsClassifier()\n",
    "recall_rate=[]\n",
    "for i in range(1,40,2):\n",
    "    knn=KNeighborsClassifier(n_neighbors=i)\n",
    "    score=cross_val_score(knn,X_train,y_train,cv=10,scoring='recall')\n",
    "    recall_rate.append(score.mean())\n",
    "print(recall_rate)"
   ]
  },
  {
   "cell_type": "code",
   "execution_count": 12,
   "metadata": {
    "colab": {
     "base_uri": "https://localhost:8080/",
     "height": 604
    },
    "colab_type": "code",
    "executionInfo": {
     "elapsed": 1690,
     "status": "ok",
     "timestamp": 1589538875324,
     "user": {
      "displayName": "Sumedha Borde",
      "photoUrl": "",
      "userId": "11137176663827409941"
     },
     "user_tz": -330
    },
    "id": "uxMpeBgv4Xhl",
    "outputId": "73a82011-40f1-4f13-ee06-e401ffdf9672"
   },
   "outputs": [
    {
     "data": {
      "text/plain": [
       "Text(0, 0.5, 'Accuracy rate')"
      ]
     },
     "execution_count": 12,
     "metadata": {},
     "output_type": "execute_result"
    },
    {
     "data": {
      "image/png": "[encoded data removed]",
      "text/plain": [
       "<Figure size 2000x1200 with 1 Axes>"
      ]
     },
     "metadata": {},
     "output_type": "display_data"
    }
   ],
   "source": [
    "# plotting recall of values of K\n",
    "\n",
    "plt.figure(figsize=(20,12))\n",
    "plt.plot(range(1,40,2),recall_rate,color='green',linestyle='dashed',marker='o',markerfacecolor='yellow',markersize=10)\n",
    "plt.title('Accuracy rate vs k value')\n",
    "plt.xlabel('k')\n",
    "plt.ylabel('Accuracy rate')"
   ]
  },
  {
   "cell_type": "code",
   "execution_count": 13,
   "metadata": {
    "colab": {
     "base_uri": "https://localhost:8080/",
     "height": 51
    },
    "colab_type": "code",
    "executionInfo": {
     "elapsed": 1818,
     "status": "ok",
     "timestamp": 1589539622862,
     "user": {
      "displayName": "Sumedha Borde",
      "photoUrl": "",
      "userId": "11137176663827409941"
     },
     "user_tz": -330
    },
    "id": "qwDtS3AY4YPF",
    "outputId": "caa64b85-e48a-4f2f-c41d-b4fde4ce7122"
   },
   "outputs": [
    {
     "name": "stdout",
     "output_type": "stream",
     "text": [
      "Test Recall score for KNN is  0.6819047619047619\n",
      "Train Recall score for KNN is  0.8387183629509962\n"
     ]
    }
   ],
   "source": [
    "\n",
    "knn = KNeighborsClassifier(n_neighbors=3)\n",
    "knn.fit(X_train,y_train)\n",
    "pred=knn.predict(X_test)\n",
    "print(\"Test Recall score for KNN is \",recall_score(y_test, pred))\n",
    "predT=knn.predict(X_train)\n",
    "print(\"Train Recall score for KNN is \",recall_score(y_train, predT))\n",
    "#print(\"Best parameters for KNN are \",knn.best_params_)\n"
   ]
  },
  {
   "cell_type": "markdown",
   "metadata": {},
   "source": [
    "**Notes:**\n",
    "1. KNN gives accuracy of 0.74 which is not very good\n",
    "2. There is not much difference between train and test accuracy so its not overfitting or underfitting\n",
    "3. Recall is 0.68 whihc is not very good "
   ]
  },
  {
   "cell_type": "markdown",
   "metadata": {
    "colab_type": "text",
    "id": "bZv0cokiQJmB"
   },
   "source": [
    "# Applying Naive Bayes"
   ]
  },
  {
   "cell_type": "code",
   "execution_count": 14,
   "metadata": {
    "colab": {
     "base_uri": "https://localhost:8080/",
     "height": 272
    },
    "colab_type": "code",
    "executionInfo": {
     "elapsed": 2034,
     "status": "ok",
     "timestamp": 1589538246337,
     "user": {
      "displayName": "Sumedha Borde",
      "photoUrl": "",
      "userId": "11137176663827409941"
     },
     "user_tz": -330
    },
    "id": "0VOOojV0QJmC",
    "outputId": "8a7f225a-f69d-4495-960f-702a52c0001b"
   },
   "outputs": [
    {
     "name": "stdout",
     "output_type": "stream",
     "text": [
      "[[1517  257]\n",
      " [ 737  838]]\n",
      "              precision    recall  f1-score   support\n",
      "\n",
      "           0       0.67      0.86      0.75      1774\n",
      "           1       0.77      0.53      0.63      1575\n",
      "\n",
      "    accuracy                           0.70      3349\n",
      "   macro avg       0.72      0.69      0.69      3349\n",
      "weighted avg       0.72      0.70      0.69      3349\n",
      "\n",
      "AUC score for NB is  0.7965088312664412\n",
      "Test Accuracy score for NB is  0.7031949835771872\n",
      "Train Accuracy score for NB is  0.7317291693331627\n",
      "Recall score for NB is  0.532063492063492\n"
     ]
    }
   ],
   "source": [
    "# Training Naive bayes\n",
    "# Finding Accuracy, AUC, False positive rate, True positive rate, confusion matrix and classificatio report\n",
    "\n",
    "gnb = GaussianNB()\n",
    "gnb.fit(X_train, y_train)\n",
    "pred = gnb.predict(X_test)\n",
    "accNB = accuracy_score(y_test, pred)\n",
    "y_pred_prob = gnb.predict_proba(X_test)\n",
    "aucScoreNB = roc_auc_score(y_test,  y_pred_prob[:,1])\n",
    "fprNB, tprNB, thresholds = roc_curve(y_test, y_pred_prob[:,1] )\n",
    "print(confusion_matrix(y_test,pred))\n",
    "print(classification_report(y_test,pred))\n",
    "print(\"AUC score for NB is \",aucScoreNB)\n",
    "print(\"Test Accuracy score for NB is \",accuracy_score(y_test, pred))\n",
    "predT=gnb.predict(X_train)\n",
    "print(\"Train Accuracy score for NB is \",accuracy_score(y_train, predT))\n",
    "#print(\"Best parameters for NB are \",gnb.best_params_)\n",
    "print(\"Recall score for NB is \",recall_score(y_test, pred))\n"
   ]
  },
  {
   "cell_type": "markdown",
   "metadata": {},
   "source": [
    "**Notes:**\n",
    "1. Naive Bayes gives accuracy of 0.70 which is not very good\n",
    "2. There is very less difference between train and test accuracy so its not overfitting or underfitting\n",
    "3. Recall is 0.53 which is very poor "
   ]
  },
  {
   "cell_type": "markdown",
   "metadata": {
    "colab_type": "text",
    "id": "OnjETazDQJmN"
   },
   "source": [
    "# Applying Logistic Regression"
   ]
  },
  {
   "cell_type": "code",
   "execution_count": 15,
   "metadata": {
    "colab": {},
    "colab_type": "code",
    "id": "Y-jTezmTQJmP",
    "scrolled": true
   },
   "outputs": [],
   "source": [
    "\n",
    "param_grid = [    \n",
    "    {'penalty' : ['l1', 'l2', 'elasticnet', 'none'],\n",
    "    'C' : np.logspace(-4, 4, 20),\n",
    "    'solver' : ['lbfgs','newton-cg','liblinear','sag','saga'],\n",
    "    'max_iter' : [100, 1000,2500, 10000]\n",
    "    }\n",
    "]\n",
    "logModel = LogisticRegression()\n",
    "\n",
    "\n"
   ]
  },
  {
   "cell_type": "markdown",
   "metadata": {},
   "source": [
    "**Notes:**\n",
    "1. Hyperparameters for Logistic Regression\n",
    "2. Penalty indicates which regularization to use\n",
    "3. C decides how much weightage is given to Regularization\n",
    "4. Solver is the technique used internally\n",
    "5. max_iter is the number of iterations for convergence"
   ]
  },
  {
   "cell_type": "code",
   "execution_count": null,
   "metadata": {
    "colab": {},
    "colab_type": "code",
    "id": "aRat0ADmBR_f"
   },
   "outputs": [],
   "source": [
    "#GridserchCV tries all possible combinations of hyperparameters to find best accuracy\n",
    "\n",
    "clf = GridSearchCV(logModel, param_grid = param_grid,scoring='accuracy', cv = 5 )\n",
    "best_clf = clf.fit(X_train,y_train)"
   ]
  },
  {
   "cell_type": "code",
   "execution_count": null,
   "metadata": {
    "colab": {
     "base_uri": "https://localhost:8080/",
     "height": 272
    },
    "colab_type": "code",
    "executionInfo": {
     "elapsed": 4636879,
     "status": "ok",
     "timestamp": 1589448104104,
     "user": {
      "displayName": "Sumedha Borde",
      "photoUrl": "",
      "userId": "11137176663827409941"
     },
     "user_tz": -330
    },
    "id": "EkUIUVowQJma",
    "outputId": "d7fab73a-c879-488a-dc14-71fede0bc94d",
    "scrolled": true
   },
   "outputs": [],
   "source": [
    "# Training Logistic Regression\n",
    "# Finding Accuracy, AUC, False positive rate, True positive rate, confusion matrix and classificatio report\n",
    "\n",
    "pred = best_clf.predict(X_test)\n",
    "accLR = accuracy_score(y_test, pred)\n",
    "y_pred_prob = best_clf.predict_proba(X_test)\n",
    "aucScoreLR = roc_auc_score(y_test,  y_pred_prob[:,1])\n",
    "fprLR, tprLR, thresholds = roc_curve(y_test, y_pred_prob[:,1] )\n",
    "print(confusion_matrix(y_test,pred))\n",
    "print(classification_report(y_test,pred))\n",
    "print(\"AUC score for LR is \",aucScoreLR)\n",
    "print(\"Test Accuracy score for LR is \",accuracy_score(y_test, pred))\n",
    "predT=best_clf.predict(X_train)\n",
    "print(\"Train Accuracy score for LR is \",accuracy_score(y_train, predT))\n",
    "print(\"Best parameters for accuracy of LR are \",best_clf.best_params_)\n"
   ]
  },
  {
   "cell_type": "code",
   "execution_count": null,
   "metadata": {
    "colab": {},
    "colab_type": "code",
    "id": "FeixCLa3BcBx"
   },
   "outputs": [],
   "source": [
    "# Training Logistic Regression for recall\n",
    "\n",
    "clfR = GridSearchCV(logModel, param_grid = param_grid,scoring='recall', cv = 5 )\n",
    "best_clfR = clfR.fit(X_train,y_train)"
   ]
  },
  {
   "cell_type": "code",
   "execution_count": null,
   "metadata": {
    "colab": {
     "base_uri": "https://localhost:8080/",
     "height": 68
    },
    "colab_type": "code",
    "executionInfo": {
     "elapsed": 4565747,
     "status": "ok",
     "timestamp": 1589453417284,
     "user": {
      "displayName": "Sumedha Borde",
      "photoUrl": "",
      "userId": "11137176663827409941"
     },
     "user_tz": -330
    },
    "id": "4pDv1lpyCA-Q",
    "outputId": "d21e7982-8994-4783-ecca-f57e6dc71cf5"
   },
   "outputs": [],
   "source": [
    "# print recall and best parameters\n",
    "\n",
    "predR = best_clfR.predict(X_test)\n",
    "predRT=best_clfR.predict(X_train)\n",
    "recallLR=recall_score(y_test, predR)\n",
    "print(\"Test Recall score for LR is \",recallLR)\n",
    "print(\"Train recall score for LR is \",recall_score(y_train, predRT))\n",
    "print(\"Best parameters for recall of LR are \",best_clfR.best_params_)\n"
   ]
  },
  {
   "cell_type": "markdown",
   "metadata": {},
   "source": [
    "**Notes:**\n",
    "\n",
    "1.  Logistic Regression gives accuracy of 0.81 which is fairly good\n",
    "2.  There is very less difference between train and test accuracy so its not overfitting or underfitting\n",
    "3.  Recall is 0.79 which is not very good\n"
   ]
  },
  {
   "cell_type": "markdown",
   "metadata": {
    "colab": {},
    "colab_type": "code",
    "id": "3Jlzrg9hCA5u"
   },
   "source": [
    "# Logistic Regression with Polynomial Features (degree=2)"
   ]
  },
  {
   "cell_type": "code",
   "execution_count": null,
   "metadata": {},
   "outputs": [],
   "source": [
    "# Logistic regression with polynomial features works better with normalozation instead of standardization\n",
    "# so read file again\n",
    "\n",
    "df=pd.read_csv(\"PreprocessedBank.csv\").drop(['Unnamed: 0'],axis=1)\n",
    "dfX=df.drop('deposit',axis=1)\n",
    "df.head()"
   ]
  },
  {
   "cell_type": "code",
   "execution_count": null,
   "metadata": {
    "scrolled": true
   },
   "outputs": [],
   "source": [
    "# Minmaxscaler is used to normalise data\n",
    "\n",
    "scaler = MinMaxScaler()\n",
    "bankMM = scaler.fit_transform(dfX)\n",
    "bankMM = pd.DataFrame(bankMM, columns=dfX.columns)\n",
    "bankMM.head()"
   ]
  },
  {
   "cell_type": "code",
   "execution_count": null,
   "metadata": {},
   "outputs": [],
   "source": [
    "# train test split (70:30)\n",
    "X_train,X_test,y_train,y_test=train_test_split(bankMM,df['deposit'],test_size=0.30, random_state=3)"
   ]
  },
  {
   "cell_type": "code",
   "execution_count": 49,
   "metadata": {
    "scrolled": true
   },
   "outputs": [],
   "source": [
    "# creating polynomial features with degree 2\n",
    "poly2 = PolynomialFeatures(degree=2)\n",
    "X_trainP=poly2.fit_transform(X_train)"
   ]
  },
  {
   "cell_type": "code",
   "execution_count": 24,
   "metadata": {},
   "outputs": [],
   "source": [
    "# Hyperparameters \n",
    "param_grid = {'penalty' : ['l1', 'l2'], 'C' : [0.001,0.01,0.1,1,5,25]    }"
   ]
  },
  {
   "cell_type": "code",
   "execution_count": 51,
   "metadata": {},
   "outputs": [
    {
     "name": "stdout",
     "output_type": "stream",
     "text": [
      "Fitting 5 folds for each of 12 candidates, totalling 60 fits\n"
     ]
    },
    {
     "name": "stderr",
     "output_type": "stream",
     "text": [
      "[Parallel(n_jobs=-1)]: Using backend LokyBackend with 4 concurrent workers.\n",
      "[Parallel(n_jobs=-1)]: Done  42 tasks      | elapsed:   12.7s\n",
      "[Parallel(n_jobs=-1)]: Done  60 out of  60 | elapsed:   19.5s finished\n"
     ]
    }
   ],
   "source": [
    "#GridserchCV tries all possible combinations of hyperparameters to find best accuracy\n",
    "\n",
    "logModel = LogisticRegression()\n",
    "clf = GridSearchCV(logModel, param_grid = param_grid,scoring='accuracy',verbose=True, cv = 5,n_jobs=-1 )\n",
    "best_clf = clf.fit(X_trainP,y_train)"
   ]
  },
  {
   "cell_type": "code",
   "execution_count": 52,
   "metadata": {},
   "outputs": [],
   "source": [
    "# create polynomial features with degree 2 for test data\n",
    "X_testP=poly2.fit_transform(X_test)"
   ]
  },
  {
   "cell_type": "code",
   "execution_count": 53,
   "metadata": {
    "scrolled": true
   },
   "outputs": [
    {
     "name": "stdout",
     "output_type": "stream",
     "text": [
      "[[1519  255]\n",
      " [ 266 1309]]\n",
      "              precision    recall  f1-score   support\n",
      "\n",
      "           0       0.85      0.86      0.85      1774\n",
      "           1       0.84      0.83      0.83      1575\n",
      "\n",
      "    accuracy                           0.84      3349\n",
      "   macro avg       0.84      0.84      0.84      3349\n",
      "weighted avg       0.84      0.84      0.84      3349\n",
      "\n",
      "AUC score for LR Poly2 is  0.9071305094754926\n",
      "Test Accuracy score for LR Poly2 is  0.8444311734846223\n",
      "Train Accuracy score for LR Poly2 is  0.8681684372200179\n",
      "Best parameters for LR are  {'C': 1, 'penalty': 'l2'}\n"
     ]
    }
   ],
   "source": [
    "# Training Logistic Regression with polynomial features with degree 2\n",
    "# Finding Accuracy, AUC, False positive rate, True positive rate, confusion matrix and classificatio report\n",
    "# get best parameters for retraining\n",
    "\n",
    "pred = best_clf.predict(X_testP)\n",
    "accLRP2 = accuracy_score(y_test, pred)\n",
    "y_pred_prob = best_clf.predict_proba(X_testP)\n",
    "aucScoreLRP2 = roc_auc_score(y_test,  y_pred_prob[:,1])\n",
    "fprLRP2, tprLRP2, thresholds = roc_curve(y_test, y_pred_prob[:,1] )\n",
    "print(confusion_matrix(y_test,pred))\n",
    "print(classification_report(y_test,pred))\n",
    "print(\"AUC score for LR Poly2 is \",aucScoreLRP2)\n",
    "print(\"Test Accuracy score for LR Poly2 is \",accLRP2)\n",
    "predT=best_clf.predict(X_trainP)\n",
    "print(\"Train Accuracy score for LR Poly2 is \",accuracy_score(y_train, predT))\n",
    "print(\"Best parameters for LR are \",best_clf.best_params_)"
   ]
  },
  {
   "cell_type": "code",
   "execution_count": 58,
   "metadata": {
    "scrolled": true
   },
   "outputs": [
    {
     "name": "stdout",
     "output_type": "stream",
     "text": [
      "Fitting 5 folds for each of 12 candidates, totalling 60 fits\n"
     ]
    },
    {
     "name": "stderr",
     "output_type": "stream",
     "text": [
      "[Parallel(n_jobs=-1)]: Using backend LokyBackend with 4 concurrent workers.\n",
      "[Parallel(n_jobs=-1)]: Done  42 tasks      | elapsed:    8.1s\n",
      "[Parallel(n_jobs=-1)]: Done  60 out of  60 | elapsed:   14.8s finished\n"
     ]
    }
   ],
   "source": [
    "logModel = LogisticRegression()\n",
    "clfR = GridSearchCV(logModel, param_grid = param_grid,scoring='recall',verbose=True, cv = 5,n_jobs=-1 )\n",
    "best_clfR = clfR.fit(X_trainP,y_train)\n"
   ]
  },
  {
   "cell_type": "code",
   "execution_count": 59,
   "metadata": {
    "scrolled": true
   },
   "outputs": [
    {
     "name": "stdout",
     "output_type": "stream",
     "text": [
      "Test Recall score for LR with polynomial features degree 2  is  0.8304761904761905\n",
      "Train recall score for LR with polynomial features degree 2 is  0.8651050080775444\n",
      "Best parameters for recall of LR with polynomial features degree 2 are  {'C': 5, 'penalty': 'l2'}\n"
     ]
    }
   ],
   "source": [
    "# Training Logistic Regression for recall\n",
    "\n",
    "predR = best_clfR.predict(X_testP)\n",
    "predRT=best_clfR.predict(X_trainP)\n",
    "recallLRP2=recall_score(y_test, predR)\n",
    "print(\"Test Recall score for LR with polynomial features degree 2  is \",recallLRP2)\n",
    "print(\"Train recall score for LR with polynomial features degree 2 is \",recall_score(y_train, predRT))\n",
    "print(\"Best parameters for recall of LR with polynomial features degree 2 are \",best_clfR.best_params_)\n"
   ]
  },
  {
   "cell_type": "markdown",
   "metadata": {},
   "source": [
    "**Notes:**\n",
    "1. Logistic regression with polynomial features degree 2 gives accuracy of 0.84 which is quite good\n",
    "2. There is very less difference between train and test accuracy so its not overfitting or underfitting\n",
    "3. Recall is 0.83 which is quite goo "
   ]
  },
  {
   "cell_type": "markdown",
   "metadata": {},
   "source": [
    "# Logistic Regression with Polynomial Features (degree=3)"
   ]
  },
  {
   "cell_type": "code",
   "execution_count": 25,
   "metadata": {},
   "outputs": [],
   "source": [
    "    poly3 = PolynomialFeatures(degree=3)\n",
    "    X_trainP=poly3.fit_transform(X_train)"
   ]
  },
  {
   "cell_type": "code",
   "execution_count": 26,
   "metadata": {
    "scrolled": true
   },
   "outputs": [
    {
     "name": "stdout",
     "output_type": "stream",
     "text": [
      "Fitting 5 folds for each of 12 candidates, totalling 60 fits\n"
     ]
    },
    {
     "name": "stderr",
     "output_type": "stream",
     "text": [
      "[Parallel(n_jobs=-1)]: Using backend LokyBackend with 4 concurrent workers.\n",
      "[Parallel(n_jobs=-1)]: Done  42 tasks      | elapsed:  2.6min\n",
      "[Parallel(n_jobs=-1)]: Done  60 out of  60 | elapsed:  4.3min finished\n"
     ]
    }
   ],
   "source": [
    "logModel = LogisticRegression()\n",
    "clf = GridSearchCV(logModel, param_grid = param_grid,scoring='accuracy',verbose=True, cv = 5,n_jobs=-1 )\n",
    "best_clf = clf.fit(X_trainP,y_train)"
   ]
  },
  {
   "cell_type": "code",
   "execution_count": 27,
   "metadata": {},
   "outputs": [],
   "source": [
    "# create polynomial features with degree 2 for test data\n",
    "X_testP=poly3.fit_transform(X_test)"
   ]
  },
  {
   "cell_type": "code",
   "execution_count": 28,
   "metadata": {
    "scrolled": true
   },
   "outputs": [
    {
     "name": "stdout",
     "output_type": "stream",
     "text": [
      "[[1519  255]\n",
      " [ 306 1269]]\n",
      "              precision    recall  f1-score   support\n",
      "\n",
      "           0       0.83      0.86      0.84      1774\n",
      "           1       0.83      0.81      0.82      1575\n",
      "\n",
      "    accuracy                           0.83      3349\n",
      "   macro avg       0.83      0.83      0.83      3349\n",
      "weighted avg       0.83      0.83      0.83      3349\n",
      "\n",
      "AUC score for LR Poly3 is  0.904984162774467\n",
      "Test Accuracy score for LR Poly3 is  0.8324873096446701\n",
      "Train Accuracy score for LR Poly3 is  0.8793037245616281\n",
      "Best parameters for LR are  {'C': 0.1, 'penalty': 'l2'}\n"
     ]
    }
   ],
   "source": [
    "# Training Logistic Regression with polynomial features with degree 3\n",
    "# Finding Accuracy, AUC, False positive rate, True positive rate, confusion matrix a1nd classificatio report\n",
    "# get best parameters for retraining\n",
    "\n",
    "pred = best_clf.predict(X_testP)\n",
    "accLRP3 = accuracy_score(y_test, pred)\n",
    "y_pred_prob = best_clf.predict_proba(X_testP)\n",
    "aucScoreLRP3 = roc_auc_score(y_test,  y_pred_prob[:,1])\n",
    "fprLRP3, tprLRP3, thresholds = roc_curve(y_test, y_pred_prob[:,1] )\n",
    "print(confusion_matrix(y_test,pred))\n",
    "print(classification_report(y_test,pred))\n",
    "print(\"AUC score for LR Poly3 is \",aucScoreLRP3)\n",
    "print(\"Test Accuracy score for LR Poly3 is \",accLRP3)\n",
    "predT=best_clf.predict(X_trainP)\n",
    "print(\"Train Accuracy score for LR Poly3 is \",accuracy_score(y_train, predT))\n",
    "print(\"Best parameters for LR are \",best_clf.best_params_)"
   ]
  },
  {
   "cell_type": "code",
   "execution_count": 15,
   "metadata": {
    "scrolled": true
   },
   "outputs": [
    {
     "name": "stdout",
     "output_type": "stream",
     "text": [
      "Fitting 5 folds for each of 12 candidates, totalling 60 fits\n"
     ]
    },
    {
     "name": "stderr",
     "output_type": "stream",
     "text": [
      "[Parallel(n_jobs=-1)]: Using backend LokyBackend with 4 concurrent workers.\n",
      "[Parallel(n_jobs=-1)]: Done  42 tasks      | elapsed:  2.7min\n",
      "[Parallel(n_jobs=-1)]: Done  60 out of  60 | elapsed:  4.5min finished\n"
     ]
    }
   ],
   "source": [
    "# Training Logistic Regression for recall\n",
    "\n",
    "logModel = LogisticRegression()\n",
    "clfR = GridSearchCV(logModel, param_grid = param_grid,scoring='recall',verbose=True, cv = 5,n_jobs=-1 )\n",
    "best_clfR = clfR.fit(X_trainP,y_train)\n"
   ]
  },
  {
   "cell_type": "code",
   "execution_count": 16,
   "metadata": {},
   "outputs": [
    {
     "name": "stdout",
     "output_type": "stream",
     "text": [
      "Test Recall score for LR with polynomial features degree 3  is  0.8057142857142857\n",
      "Train recall score for LR with polynomial features degree 3 is  0.871836295099623\n",
      "Best parameters for recall of LR with polynomial features degree 3 are  {'C': 0.1, 'penalty': 'l2'}\n"
     ]
    }
   ],
   "source": [
    "predR = best_clfR.predict(X_testP)\n",
    "predRT=best_clfR.predict(X_trainP)\n",
    "recallLRP3=recall_score(y_test, predR)\n",
    "print(\"Test Recall score for LR with polynomial features degree 3  is \",recallLRP3)\n",
    "print(\"Train recall score for LR with polynomial features degree 3 is \",recall_score(y_train, predRT))\n",
    "print(\"Best parameters for recall of LR with polynomial features degree 3 are \",best_clfR.best_params_)\n"
   ]
  },
  {
   "cell_type": "markdown",
   "metadata": {},
   "source": [
    "**Notes:**\n",
    "1. Logistic regression with polynomial features degree 3 gives accuracy of 0.73 which is quite poor\n",
    "2. There is not huge difference between train and test accuracy so its not overfitting or underfitting\n",
    "3. Recall is 0.64 which is poor "
   ]
  },
  {
   "cell_type": "markdown",
   "metadata": {
    "colab_type": "text",
    "id": "_4Tqg6NKQJmj"
   },
   "source": [
    "# Applying SVM"
   ]
  },
  {
   "cell_type": "code",
   "execution_count": 13,
   "metadata": {
    "colab": {},
    "colab_type": "code",
    "id": "sLkJBhTBQJml"
   },
   "outputs": [],
   "source": [
    "\n",
    "classifier = SVC(probability=True)\n",
    "parameters=[{'C':[1,10,100,1000],'kernel':['linear']},\n",
    "            {'C':[1,10,100,1000],'kernel':['rbf'], 'gamma':[0.1,0.2,0.3,0.4,0.5,0.6,0.7,0.8,0.9]},\n",
    "            {'C':[1,10,100,1000],'kernel': ['poly'], 'degree':[2,3,4]}      ]\n"
   ]
  },
  {
   "cell_type": "code",
   "execution_count": 43,
   "metadata": {
    "colab": {},
    "colab_type": "code",
    "id": "Qurf6uU9CFw8"
   },
   "outputs": [],
   "source": [
    "clf = GridSearchCV(estimator=classifier,param_grid=parameters,scoring='accuracy',cv=5)\n",
    "best_clf = clf.fit(X_train,y_train)"
   ]
  },
  {
   "cell_type": "code",
   "execution_count": 44,
   "metadata": {
    "colab": {
     "base_uri": "https://localhost:8080/",
     "height": 272
    },
    "colab_type": "code",
    "executionInfo": {
     "elapsed": 194995,
     "status": "ok",
     "timestamp": 1589454370375,
     "user": {
      "displayName": "Sumedha Borde",
      "photoUrl": "",
      "userId": "11137176663827409941"
     },
     "user_tz": -330
    },
    "id": "HR_f3a25QJms",
    "outputId": "fe7a8f23-b704-43f3-fa69-79f818418e46"
   },
   "outputs": [
    {
     "name": "stdout",
     "output_type": "stream",
     "text": [
      "[[1484  290]\n",
      " [ 300 1275]]\n",
      "              precision    recall  f1-score   support\n",
      "\n",
      "           0       0.83      0.84      0.83      1774\n",
      "           1       0.81      0.81      0.81      1575\n",
      "\n",
      "    accuracy                           0.82      3349\n",
      "   macro avg       0.82      0.82      0.82      3349\n",
      "weighted avg       0.82      0.82      0.82      3349\n",
      "\n",
      "AUC score for SVM is  0.8906433313648646\n",
      "Test Accuracy score for SVM is  0.8238280083607047\n",
      "Train Accuracy score for SVM is  0.8315627799820812\n",
      "Best parameters for SVM are  {'C': 1, 'kernel': 'linear'}\n"
     ]
    }
   ],
   "source": [
    "# Training SVM\n",
    "# Finding Accuracy, AUC, False positive rate, True positive rate, confusion matrix and classificatio report\n",
    "# get best parameters for retraining\n",
    "\n",
    "pred = best_clf.predict(X_test)\n",
    "accSVM = accuracy_score(y_test, pred)\n",
    "y_pred_prob = best_clf.predict_proba(X_test)\n",
    "aucScoreSVM = roc_auc_score(y_test,  y_pred_prob[:,1])\n",
    "fprSVM, tprSVM, thresholds = roc_curve(y_test, y_pred_prob[:,1] )\n",
    "print(confusion_matrix(y_test,pred))\n",
    "print(classification_report(y_test,pred))\n",
    "print(\"AUC score for SVM is \",aucScoreSVM)\n",
    "print(\"Test Accuracy score for SVM is \",accuracy_score(y_test, pred))\n",
    "predT=best_clf.predict(X_train)\n",
    "print(\"Train Accuracy score for SVM is \",accuracy_score(y_train, predT))\n",
    "print(\"Best parameters for SVM are \",best_clf.best_params_)\n"
   ]
  },
  {
   "cell_type": "markdown",
   "metadata": {},
   "source": [
    "\n"
   ]
  },
  {
   "cell_type": "code",
   "execution_count": 14,
   "metadata": {
    "colab": {},
    "colab_type": "code",
    "id": "Ta9ZuabRCxbe"
   },
   "outputs": [],
   "source": [
    "# Training SVM for recall\n",
    "\n",
    "clfR = GridSearchCV(estimator=classifier,param_grid=parameters,scoring='recall',cv=5)\n",
    "best_clfR = clfR.fit(X_train,y_train)"
   ]
  },
  {
   "cell_type": "code",
   "execution_count": 15,
   "metadata": {
    "colab": {
     "base_uri": "https://localhost:8080/",
     "height": 68
    },
    "colab_type": "code",
    "executionInfo": {
     "elapsed": 195383,
     "status": "ok",
     "timestamp": 1589454616596,
     "user": {
      "displayName": "Sumedha Borde",
      "photoUrl": "",
      "userId": "11137176663827409941"
     },
     "user_tz": -330
    },
    "id": "xis4apZHCx2m",
    "outputId": "34a8bd22-7f09-46fe-cce4-450f5d89993e",
    "scrolled": true
   },
   "outputs": [
    {
     "name": "stdout",
     "output_type": "stream",
     "text": [
      "Test Recall score for SVM is  0.8901587301587301\n",
      "Train recall score for SVM is  0.9886914378029079\n",
      "Best parameters for recall of SVM are  {'C': 1, 'gamma': 0.9, 'kernel': 'rbf'}\n"
     ]
    }
   ],
   "source": [
    "predR = best_clfR.predict(X_test)\n",
    "predRT=best_clfR.predict(X_train)\n",
    "recallSVM=recall_score(y_test, predR)\n",
    "print(\"Test Recall score for SVM is \",recallSVM)\n",
    "print(\"Train recall score for SVM is \",recall_score(y_train, predRT))\n",
    "print(\"Best parameters for recall of SVM are \",best_clfR.best_params_)\n"
   ]
  },
  {
   "cell_type": "markdown",
   "metadata": {},
   "source": [
    "**Notes:**\n",
    "1. Support vector machines gives accuracy of 0.82 which is quite good\n",
    "2. There is very less difference between train and test accuracy so its not overfitting or underfitting\n",
    "3. Recall is 0.89 which is very good "
   ]
  },
  {
   "cell_type": "markdown",
   "metadata": {
    "colab_type": "text",
    "id": "Bo2IskpAQJm2"
   },
   "source": [
    "# Applying Decision Tree"
   ]
  },
  {
   "cell_type": "code",
   "execution_count": 29,
   "metadata": {
    "colab": {},
    "colab_type": "code",
    "id": "Rj9vbmPKQJm4"
   },
   "outputs": [],
   "source": [
    "\n",
    "dfX=df.drop('deposit',axis=1)\n",
    "dfX.head()\n",
    "X_train,X_test,y_train,y_test=train_test_split(dfX,df['deposit'],test_size=0.30, random_state=3)\n"
   ]
  },
  {
   "cell_type": "code",
   "execution_count": 30,
   "metadata": {
    "colab": {},
    "colab_type": "code",
    "id": "jM_PiYtqQJnA"
   },
   "outputs": [],
   "source": [
    "dt=DecisionTreeClassifier()\n",
    "parameters={'max_depth':[1,2,3,4,5,6,7,8,9,10,11,12,13,14,15],\n",
    "            'min_samples_leaf':[1,2,3,4,5],\n",
    "            'min_samples_split':[2,3,4,5],\n",
    "            'criterion':['gini','entropy']}\n"
   ]
  },
  {
   "cell_type": "code",
   "execution_count": 31,
   "metadata": {
    "colab": {
     "base_uri": "https://localhost:8080/",
     "height": 68
    },
    "colab_type": "code",
    "executionInfo": {
     "elapsed": 388935,
     "status": "ok",
     "timestamp": 1589455117241,
     "user": {
      "displayName": "Sumedha Borde",
      "photoUrl": "",
      "userId": "11137176663827409941"
     },
     "user_tz": -330
    },
    "id": "BV3jNRfIDmHY",
    "outputId": "f89bf67a-7373-42c9-ab37-7d101adbbf5c",
    "scrolled": true
   },
   "outputs": [
    {
     "name": "stdout",
     "output_type": "stream",
     "text": [
      "Fitting 5 folds for each of 600 candidates, totalling 3000 fits\n"
     ]
    },
    {
     "name": "stderr",
     "output_type": "stream",
     "text": [
      "[Parallel(n_jobs=1)]: Using backend SequentialBackend with 1 concurrent workers.\n",
      "[Parallel(n_jobs=1)]: Done 3000 out of 3000 | elapsed:  2.6min finished\n"
     ]
    }
   ],
   "source": [
    "clf = GridSearchCV(dt,parameters,scoring='accuracy',verbose=True)\n",
    "best_clf = clf.fit(X_train,y_train)"
   ]
  },
  {
   "cell_type": "code",
   "execution_count": 32,
   "metadata": {
    "colab": {
     "base_uri": "https://localhost:8080/",
     "height": 272
    },
    "colab_type": "code",
    "executionInfo": {
     "elapsed": 1433,
     "status": "ok",
     "timestamp": 1589455118763,
     "user": {
      "displayName": "Sumedha Borde",
      "photoUrl": "",
      "userId": "11137176663827409941"
     },
     "user_tz": -330
    },
    "id": "JPLZQLd3QJnJ",
    "outputId": "acd24c17-09e9-42d7-f718-1b956b025025"
   },
   "outputs": [
    {
     "name": "stdout",
     "output_type": "stream",
     "text": [
      "[[1386  388]\n",
      " [ 234 1341]]\n",
      "              precision    recall  f1-score   support\n",
      "\n",
      "           0       0.86      0.78      0.82      1774\n",
      "           1       0.78      0.85      0.81      1575\n",
      "\n",
      "    accuracy                           0.81      3349\n",
      "   macro avg       0.82      0.82      0.81      3349\n",
      "weighted avg       0.82      0.81      0.81      3349\n",
      "\n",
      "AUC score for Decision Tree is  0.8761335695495784\n",
      "Test Accuracy score for DT is  0.814272917288743\n",
      "Train Accuracy score for DT is  0.8492256495584283\n",
      "Best parameters for DT are  {'criterion': 'gini', 'max_depth': 8, 'min_samples_leaf': 5, 'min_samples_split': 5}\n"
     ]
    }
   ],
   "source": [
    "# Training Decision Tree\n",
    "# Finding Accuracy, AUC, False positive rate, True positive rate, confusion matrix and classificatio report\n",
    "# get best parameters for retraining\n",
    "\n",
    "pred = best_clf.predict(X_test)\n",
    "accDT = accuracy_score(y_test, pred)\n",
    "y_pred_prob = best_clf.predict_proba(X_test)\n",
    "aucScoreDT = roc_auc_score(y_test,  y_pred_prob[:,1])\n",
    "fprDT, tprDT, thresholds = roc_curve(y_test, y_pred_prob[:,1] )\n",
    "print(confusion_matrix(y_test,pred))\n",
    "print(classification_report(y_test,pred))\n",
    "print(\"AUC score for Decision Tree is \",aucScoreDT)\n",
    "print(\"Test Accuracy score for DT is \",accuracy_score(y_test, pred))\n",
    "predT=best_clf.predict(X_train)\n",
    "print(\"Train Accuracy score for DT is \",accuracy_score(y_train, predT))\n",
    "print(\"Best parameters for DT are \",best_clf.best_params_)\n"
   ]
  },
  {
   "cell_type": "code",
   "execution_count": 33,
   "metadata": {
    "colab": {
     "base_uri": "https://localhost:8080/",
     "height": 68
    },
    "colab_type": "code",
    "executionInfo": {
     "elapsed": 396352,
     "status": "ok",
     "timestamp": 1589455670335,
     "user": {
      "displayName": "Sumedha Borde",
      "photoUrl": "",
      "userId": "11137176663827409941"
     },
     "user_tz": -330
    },
    "id": "1WYn-oroDqfp",
    "outputId": "fc7559c7-e188-4746-929a-7ebf814f8fcf"
   },
   "outputs": [
    {
     "name": "stdout",
     "output_type": "stream",
     "text": [
      "Fitting 5 folds for each of 600 candidates, totalling 3000 fits\n"
     ]
    },
    {
     "name": "stderr",
     "output_type": "stream",
     "text": [
      "[Parallel(n_jobs=1)]: Using backend SequentialBackend with 1 concurrent workers.\n",
      "[Parallel(n_jobs=1)]: Done 3000 out of 3000 | elapsed:  2.7min finished\n"
     ]
    }
   ],
   "source": [
    "#Gridsearchcv Training Decision Tree for recall\n",
    "\n",
    "clfR = GridSearchCV(dt,parameters,scoring='recall',verbose=True)\n",
    "best_clfR = clfR.fit(X_train,y_train)"
   ]
  },
  {
   "cell_type": "code",
   "execution_count": 34,
   "metadata": {
    "colab": {
     "base_uri": "https://localhost:8080/",
     "height": 88
    },
    "colab_type": "code",
    "executionInfo": {
     "elapsed": 393476,
     "status": "ok",
     "timestamp": 1589455670337,
     "user": {
      "displayName": "Sumedha Borde",
      "photoUrl": "",
      "userId": "11137176663827409941"
     },
     "user_tz": -330
    },
    "id": "_KFwWiPYDqyU",
    "outputId": "d47c1603-338d-4e19-da68-b6766618d5ab"
   },
   "outputs": [
    {
     "name": "stdout",
     "output_type": "stream",
     "text": [
      "Test Recall score for DT is  0.8253968253968254\n",
      "Train recall score for DT is  0.8309100700053851\n",
      "Best parameters for recall of DT are  {'criterion': 'entropy', 'max_depth': 1, 'min_samples_leaf': 1, 'min_samples_split': 2}\n"
     ]
    }
   ],
   "source": [
    "predR = best_clfR.predict(X_test)\n",
    "predRT=best_clfR.predict(X_train)\n",
    "recallDT=recall_score(y_test, predR)\n",
    "print(\"Test Recall score for DT is \",recallDT)\n",
    "print(\"Train recall score for DT is \",recall_score(y_train, predRT))\n",
    "print(\"Best parameters for recall of DT are \",best_clfR.best_params_)\n"
   ]
  },
  {
   "cell_type": "markdown",
   "metadata": {},
   "source": [
    "**Notes:**\n",
    "1. Decision Tree gives accuracy of 0.81 which is quite good\n",
    "2. There is very less difference between train and test accuracy so its not overfitting or underfitting\n",
    "3. Recall is 0.82 which is quite good "
   ]
  },
  {
   "cell_type": "markdown",
   "metadata": {
    "colab_type": "text",
    "id": "Is3SXzpPQJnS"
   },
   "source": [
    "# Applying Random Forest"
   ]
  },
  {
   "cell_type": "code",
   "execution_count": 25,
   "metadata": {
    "colab": {},
    "colab_type": "code",
    "id": "W-RwubljQJnT"
   },
   "outputs": [],
   "source": [
    "\n",
    "rf = RandomForestClassifier()\n",
    "\n",
    "parameters={'bootstrap': [True, False],\n",
    "# 'max_depth': [10, 20, 30, 40, 50, 60, 70, 80, 90, 100, None],\n",
    " 'max_features': ['auto', 'sqrt'],\n",
    " 'min_samples_leaf': [1, 2, 4],\n",
    " 'min_samples_split': [2, 5, 10],\n",
    " 'n_estimators': [500, 1000, 1500,  2000]}"
   ]
  },
  {
   "cell_type": "code",
   "execution_count": 26,
   "metadata": {
    "colab": {
     "base_uri": "https://localhost:8080/",
     "height": 68
    },
    "colab_type": "code",
    "executionInfo": {
     "elapsed": 5374577,
     "status": "ok",
     "timestamp": 1589461156097,
     "user": {
      "displayName": "Sumedha Borde",
      "photoUrl": "",
      "userId": "11137176663827409941"
     },
     "user_tz": -330
    },
    "id": "DbVZpprVJygN",
    "outputId": "63c6d59e-eb99-4f3b-ff72-60872e1ae08e",
    "scrolled": true
   },
   "outputs": [
    {
     "name": "stdout",
     "output_type": "stream",
     "text": [
      "Fitting 5 folds for each of 144 candidates, totalling 720 fits\n"
     ]
    },
    {
     "name": "stderr",
     "output_type": "stream",
     "text": [
      "[Parallel(n_jobs=1)]: Using backend SequentialBackend with 1 concurrent workers.\n",
      "[Parallel(n_jobs=1)]: Done 720 out of 720 | elapsed: 162.4min finished\n"
     ]
    }
   ],
   "source": [
    "clf=GridSearchCV(estimator = rf, param_grid = parameters,scoring='accuracy', cv = 5, verbose = True)\n",
    "best_clf = clf.fit(X_train,y_train)"
   ]
  },
  {
   "cell_type": "code",
   "execution_count": 27,
   "metadata": {
    "colab": {
     "base_uri": "https://localhost:8080/",
     "height": 292
    },
    "colab_type": "code",
    "executionInfo": {
     "elapsed": 5349719,
     "status": "ok",
     "timestamp": 1589461156108,
     "user": {
      "displayName": "Sumedha Borde",
      "photoUrl": "",
      "userId": "11137176663827409941"
     },
     "user_tz": -330
    },
    "id": "dCeYnoAjQJna",
    "outputId": "cfe10e70-f27e-4b17-cea0-4a1639b2b58f",
    "scrolled": true
   },
   "outputs": [
    {
     "name": "stdout",
     "output_type": "stream",
     "text": [
      "[[1445  329]\n",
      " [ 180 1395]]\n",
      "              precision    recall  f1-score   support\n",
      "\n",
      "           0       0.89      0.81      0.85      1774\n",
      "           1       0.81      0.89      0.85      1575\n",
      "\n",
      "    accuracy                           0.85      3349\n",
      "   macro avg       0.85      0.85      0.85      3349\n",
      "weighted avg       0.85      0.85      0.85      3349\n",
      "\n",
      "AUC score for Random Forest is  0.9160437357957089\n",
      "Test Accuracy score for Random Forest is  0.848014332636608\n",
      "Train Accuracy score for Random Forest is  1.0\n",
      "Best parameters for Random Forest are  {'bootstrap': True, 'max_features': 'sqrt', 'min_samples_leaf': 1, 'min_samples_split': 2, 'n_estimators': 2000}\n"
     ]
    }
   ],
   "source": [
    "# Training Random Forest\n",
    "# Finding Accuracy, AUC, False positive rate, True positive rate, confusion matrix and classificatio report\n",
    "# get best parameters for retraining\n",
    "\n",
    "pred = best_clf.predict(X_test)\n",
    "accRF = accuracy_score(y_test, pred)\n",
    "y_pred_prob = best_clf.predict_proba(X_test)\n",
    "aucScoreRF = roc_auc_score(y_test,  y_pred_prob[:,1])\n",
    "fprRF, tprRF, thresholds = roc_curve(y_test, y_pred_prob[:,1] )\n",
    "print(confusion_matrix(y_test,pred))\n",
    "print(classification_report(y_test,pred))\n",
    "print(\"AUC score for Random Forest is \",aucScoreRF)\n",
    "print(\"Test Accuracy score for Random Forest is \",accuracy_score(y_test, pred))\n",
    "predT=best_clf.predict(X_train)\n",
    "print(\"Train Accuracy score for Random Forest is \",accuracy_score(y_train, predT))\n",
    "print(\"Best parameters for Random Forest are \",best_clf.best_params_)\n"
   ]
  },
  {
   "cell_type": "code",
   "execution_count": 28,
   "metadata": {
    "colab": {
     "base_uri": "https://localhost:8080/",
     "height": 68
    },
    "colab_type": "code",
    "executionInfo": {
     "elapsed": 11135223,
     "status": "ok",
     "timestamp": 1589403495052,
     "user": {
      "displayName": "Sumedha Borde",
      "photoUrl": "",
      "userId": "11137176663827409941"
     },
     "user_tz": -330
    },
    "id": "RvzFadqvJ1vr",
    "outputId": "d849d1cb-7226-4c68-f858-c94e3b8f617f",
    "scrolled": true
   },
   "outputs": [
    {
     "name": "stdout",
     "output_type": "stream",
     "text": [
      "Fitting 5 folds for each of 144 candidates, totalling 720 fits\n"
     ]
    },
    {
     "name": "stderr",
     "output_type": "stream",
     "text": [
      "[Parallel(n_jobs=1)]: Using backend SequentialBackend with 1 concurrent workers.\n",
      "[Parallel(n_jobs=1)]: Done 720 out of 720 | elapsed: 170.6min finished\n"
     ]
    }
   ],
   "source": [
    "#Gridsearchcv Training Random Forest for recall\n",
    "clfR=GridSearchCV(estimator = rf, param_grid = parameters,scoring='recall', cv = 5, verbose = True)\n",
    "best_clfR = clfR.fit(X_train,y_train)"
   ]
  },
  {
   "cell_type": "code",
   "execution_count": 29,
   "metadata": {
    "colab": {
     "base_uri": "https://localhost:8080/",
     "height": 88
    },
    "colab_type": "code",
    "executionInfo": {
     "elapsed": 11106286,
     "status": "ok",
     "timestamp": 1589403495055,
     "user": {
      "displayName": "Sumedha Borde",
      "photoUrl": "",
      "userId": "11137176663827409941"
     },
     "user_tz": -330
    },
    "id": "h2J0v-jtJ2h6",
    "outputId": "d0ce75db-af0f-42bb-fe5e-9964d82e756c"
   },
   "outputs": [
    {
     "name": "stdout",
     "output_type": "stream",
     "text": [
      "Test Recall score for RF is  0.8876190476190476\n",
      "Train recall score for RF is  0.9744211093161013\n",
      "Best parameters for recall of RF are  {'bootstrap': False, 'max_features': 'auto', 'min_samples_leaf': 4, 'min_samples_split': 2, 'n_estimators': 1500}\n"
     ]
    }
   ],
   "source": [
    "predR = best_clfR.predict(X_test)\n",
    "predRT=best_clfR.predict(X_train)\n",
    "recallRF=recall_score(y_test, predR)\n",
    "print(\"Test Recall score for RF is \",recallRF)\n",
    "print(\"Train recall score for RF is \",recall_score(y_train, predRT))\n",
    "print(\"Best parameters for recall of RF are \",best_clfR.best_params_)\n"
   ]
  },
  {
   "cell_type": "markdown",
   "metadata": {},
   "source": [
    "**Notes:**\n",
    "1. Random Forest gives accuracy of 0.84 which is quite good\n",
    "2. There is quite difference between train and test accuracy but its not severe overfitting or underfitting\n",
    "3. Recall is 0.88 which is very good "
   ]
  },
  {
   "cell_type": "markdown",
   "metadata": {
    "colab_type": "text",
    "id": "sBMfO97-QJnj"
   },
   "source": [
    "# Applying XGBoost"
   ]
  },
  {
   "cell_type": "code",
   "execution_count": 32,
   "metadata": {
    "colab": {},
    "colab_type": "code",
    "id": "MnUexKTLLBUV"
   },
   "outputs": [],
   "source": [
    "\n",
    "params = {\n",
    "            'eta': np.arange(0.1, 0.26, 0.05),\n",
    "            'min_child_weight': np.arange(1, 5, 0.5).tolist(),\n",
    "            'gamma': [5],\n",
    "            'subsample': np.arange(0.5, 1.0, 0.11).tolist(),\n",
    "            'colsample_bytree': np.arange(0.5, 1.0, 0.11).tolist()\n",
    "        }\n"
   ]
  },
  {
   "cell_type": "code",
   "execution_count": 33,
   "metadata": {
    "colab": {
     "base_uri": "https://localhost:8080/",
     "height": 68
    },
    "colab_type": "code",
    "executionInfo": {
     "elapsed": 7978587,
     "status": "ok",
     "timestamp": 1589469251517,
     "user": {
      "displayName": "Sumedha Borde",
      "photoUrl": "",
      "userId": "11137176663827409941"
     },
     "user_tz": -330
    },
    "id": "yWUmZvXZK6EL",
    "outputId": "9908136d-3b6b-43ed-c2bb-ed77b430f442",
    "scrolled": true
   },
   "outputs": [
    {
     "name": "stdout",
     "output_type": "stream",
     "text": [
      "Fitting 10 folds for each of 800 candidates, totalling 8000 fits\n"
     ]
    },
    {
     "name": "stderr",
     "output_type": "stream",
     "text": [
      "[Parallel(n_jobs=1)]: Using backend SequentialBackend with 1 concurrent workers.\n",
      "[Parallel(n_jobs=1)]: Done 8000 out of 8000 | elapsed: 176.0min finished\n"
     ]
    }
   ],
   "source": [
    "xgb_model = XGBClassifier(objective = \"binary:logistic\")\n",
    "skf = StratifiedKFold(n_splits=10, shuffle = True)\n",
    "clf = GridSearchCV(xgb_model, param_grid = params, scoring = 'accuracy',cv = skf.split(X_train, y_train),verbose=True)\n",
    "best_clf = clf.fit(X_train,y_train)"
   ]
  },
  {
   "cell_type": "code",
   "execution_count": 34,
   "metadata": {
    "colab": {
     "base_uri": "https://localhost:8080/",
     "height": 292
    },
    "colab_type": "code",
    "executionInfo": {
     "elapsed": 7882038,
     "status": "ok",
     "timestamp": 1589469251526,
     "user": {
      "displayName": "Sumedha Borde",
      "photoUrl": "",
      "userId": "11137176663827409941"
     },
     "user_tz": -330
    },
    "id": "GSrullLMQJns",
    "outputId": "32b806fa-878b-4887-c720-081d78a9a5a3",
    "scrolled": true
   },
   "outputs": [
    {
     "name": "stdout",
     "output_type": "stream",
     "text": [
      "[[1468  306]\n",
      " [ 186 1389]]\n",
      "              precision    recall  f1-score   support\n",
      "\n",
      "           0       0.89      0.83      0.86      1774\n",
      "           1       0.82      0.88      0.85      1575\n",
      "\n",
      "    accuracy                           0.85      3349\n",
      "   macro avg       0.85      0.85      0.85      3349\n",
      "weighted avg       0.86      0.85      0.85      3349\n",
      "\n",
      "AUC score for XGBOOST is  0.9198478910542044\n",
      "Test Accuracy score for XGBOOST is  0.8530904747685877\n",
      "Train Accuracy score for XGBOOST is  0.9005503647766543\n",
      "Best parameters for XGBOOST are  {'colsample_bytree': 0.94, 'eta': 0.25000000000000006, 'gamma': 5, 'min_child_weight': 1.5, 'subsample': 0.94}\n"
     ]
    }
   ],
   "source": [
    "# Training XGBOOST\n",
    "# Finding Accuracy, AUC, False positive rate, True positive rate, confusion matrix and classificatio report\n",
    "# get best parameters for retraining\n",
    "\n",
    "pred = best_clf.predict(X_test)\n",
    "accXGBOOST = accuracy_score(y_test, pred)\n",
    "y_pred_prob = best_clf.predict_proba(X_test)\n",
    "aucScoreXGBOOST = roc_auc_score(y_test,  y_pred_prob[:,1])\n",
    "fprXGBOOST, tprXGBOOST, thresholds = roc_curve(y_test, y_pred_prob[:,1] )\n",
    "print(confusion_matrix(y_test,pred))\n",
    "print(classification_report(y_test,pred))\n",
    "print(\"AUC score for XGBOOST is \",aucScoreXGBOOST)\n",
    "print(\"Test Accuracy score for XGBOOST is \",accuracy_score(y_test, pred))\n",
    "predT=best_clf.predict(X_train)\n",
    "print(\"Train Accuracy score for XGBOOST is \",accuracy_score(y_train, predT))\n",
    "print(\"Best parameters for XGBOOST are \",best_clf.best_params_)\n"
   ]
  },
  {
   "cell_type": "code",
   "execution_count": 35,
   "metadata": {
    "colab": {
     "base_uri": "https://localhost:8080/",
     "height": 68
    },
    "colab_type": "code",
    "executionInfo": {
     "elapsed": 8010504,
     "status": "ok",
     "timestamp": 1589477564108,
     "user": {
      "displayName": "Sumedha Borde",
      "photoUrl": "",
      "userId": "11137176663827409941"
     },
     "user_tz": -330
    },
    "id": "XE14lqjcLEzs",
    "outputId": "32e3ce29-85a2-43f8-ede6-76299a756d38"
   },
   "outputs": [
    {
     "name": "stdout",
     "output_type": "stream",
     "text": [
      "Fitting 10 folds for each of 800 candidates, totalling 8000 fits\n"
     ]
    },
    {
     "name": "stderr",
     "output_type": "stream",
     "text": [
      "[Parallel(n_jobs=1)]: Using backend SequentialBackend with 1 concurrent workers.\n",
      "[Parallel(n_jobs=1)]: Done 8000 out of 8000 | elapsed: 186.8min finished\n"
     ]
    }
   ],
   "source": [
    "#Gridsearchcv And Training XGBBOST for recall\n",
    "clfR = GridSearchCV(xgb_model, param_grid = params, scoring = 'recall',cv = skf.split(X_train, y_train),verbose=True)\n",
    "best_clfR = clfR.fit(X_train,y_train)"
   ]
  },
  {
   "cell_type": "code",
   "execution_count": 36,
   "metadata": {
    "colab": {
     "base_uri": "https://localhost:8080/",
     "height": 88
    },
    "colab_type": "code",
    "executionInfo": {
     "elapsed": 8005014,
     "status": "ok",
     "timestamp": 1589477564116,
     "user": {
      "displayName": "Sumedha Borde",
      "photoUrl": "",
      "userId": "11137176663827409941"
     },
     "user_tz": -330
    },
    "id": "unNjXhZYLFIF",
    "outputId": "f910c146-1ddd-47f0-ccc7-881bacd66781"
   },
   "outputs": [
    {
     "name": "stdout",
     "output_type": "stream",
     "text": [
      "Test Recall score for XGBOOST is  0.8857142857142857\n",
      "Train recall score for XGBOOST is  0.9248788368336026\n",
      "Best parameters for recall of XGBOOST are  {'colsample_bytree': 0.94, 'eta': 0.20000000000000004, 'gamma': 5, 'min_child_weight': 1.0, 'subsample': 0.94}\n"
     ]
    }
   ],
   "source": [
    "predR = best_clfR.predict(X_test)\n",
    "predRT=best_clfR.predict(X_train)\n",
    "recallXGBOOST=recall_score(y_test, predR)\n",
    "print(\"Test Recall score for XGBOOST is \",recallXGBOOST)\n",
    "print(\"Train recall score for XGBOOST is \",recall_score(y_train, predRT))\n",
    "print(\"Best parameters for recall of XGBOOST are \",best_clfR.best_params_)\n"
   ]
  },
  {
   "cell_type": "markdown",
   "metadata": {},
   "source": [
    "**Notes:**\n",
    "1. XGBOOST gives accuracy of 0.85 which is best amongst them\n",
    "2. There is very less difference between train and test accuracy so its not overfitting or underfitting\n",
    "3. Recall is 0.88 which is really Good\n",
    "4. XGBBOST is basically an implementation of GBDT Gradint Boosting Decision Tree\n",
    "5. XGBOOST have given us the best result so far"
   ]
  },
  {
   "cell_type": "markdown",
   "metadata": {},
   "source": [
    "# Feature Importance using XGBOOST"
   ]
  },
  {
   "cell_type": "code",
   "execution_count": 115,
   "metadata": {},
   "outputs": [
    {
     "data": {
      "text/plain": [
       "XGBClassifier(base_score=0.5, booster=None, colsample_bylevel=1,\n",
       "              colsample_bynode=1, colsample_bytree=0.94,\n",
       "              eta=0.25000000000000006, gamma=5, gpu_id=-1,\n",
       "              importance_type='gain', interaction_constraints=None,\n",
       "              learning_rate=0.25, max_delta_step=0, max_depth=6,\n",
       "              min_child_weight=1.5, missing=nan, monotone_constraints=None,\n",
       "              n_estimators=100, n_jobs=0, num_parallel_tree=1,\n",
       "              objective='binary:logistic', random_state=0, reg_alpha=0,\n",
       "              reg_lambda=1, scale_pos_weight=1, subsample=0.94,\n",
       "              tree_method=None, validate_parameters=False, verbosity=None)"
      ]
     },
     "execution_count": 115,
     "metadata": {},
     "output_type": "execute_result"
    }
   ],
   "source": [
    "#https://stackoverflow.com/questions/37627923/how-to-get-feature-importance-in-xgboost\n",
    "best_clf = XGBClassifier(colsample_bytree= 0.94, eta= 0.25000000000000006, gamma= 5, min_child_weight= 1.5, subsample= 0.94,objective = \"binary:logistic\")\n",
    "skf = StratifiedKFold(n_splits=10, shuffle = True)\n",
    "best_clf.fit(X_train,y_train)\n",
    "\n",
    "\n",
    "\n",
    "    \n",
    "    "
   ]
  },
  {
   "cell_type": "code",
   "execution_count": 137,
   "metadata": {
    "scrolled": true
   },
   "outputs": [
    {
     "data": {
      "text/plain": [
       "<matplotlib.axes._subplots.AxesSubplot at 0x1ee67af61d0>"
      ]
     },
     "execution_count": 137,
     "metadata": {},
     "output_type": "execute_result"
    },
    {
     "data": {
      "image/png": "[encoded data removed]",
      "text/plain": [
       "<Figure size 432x288 with 1 Axes>"
      ]
     },
     "metadata": {},
     "output_type": "display_data"
    }
   ],
   "source": [
    "#https://stackoverflow.com/questions/37627923/how-to-get-feature-importance-in-xgboost\n",
    "    \n",
    "feature_important = best_clf.get_booster().get_score(importance_type='gain')\n",
    "keys = list(feature_important.keys())\n",
    "values = list(feature_important.values())\n",
    "\n",
    "data = pd.DataFrame(data=values, index=keys, columns=[\"score\"]).sort_values(by = \"score\", ascending=False)\n",
    "data[:10].plot(kind='barh')"
   ]
  },
  {
   "cell_type": "markdown",
   "metadata": {},
   "source": [
    "**Notes:**\n",
    "1. XGBOOST gives us best results so find important feaures for it\n",
    "2. As per the feature importance of XGBOOST it is clear that bank need to focus more on clients with success in previous campaign. Whether client uses cellular phone or not and the month in which client is being called play a vital role\n"
   ]
  },
  {
   "cell_type": "code",
   "execution_count": 133,
   "metadata": {},
   "outputs": [
    {
     "data": {
      "text/html": [
       "<div>\n",
       "<style scoped>\n",
       "    .dataframe tbody tr th:only-of-type {\n",
       "        vertical-align: middle;\n",
       "    }\n",
       "\n",
       "    .dataframe tbody tr th {\n",
       "        vertical-align: top;\n",
       "    }\n",
       "\n",
       "    .dataframe thead th {\n",
       "        text-align: right;\n",
       "    }\n",
       "</style>\n",
       "<table border=\"1\" class=\"dataframe\">\n",
       "  <thead>\n",
       "    <tr style=\"text-align: right;\">\n",
       "      <th></th>\n",
       "      <th>score</th>\n",
       "    </tr>\n",
       "  </thead>\n",
       "  <tbody>\n",
       "    <tr>\n",
       "      <th>success</th>\n",
       "      <td>56.446259</td>\n",
       "    </tr>\n",
       "    <tr>\n",
       "      <th>housing</th>\n",
       "      <td>36.314957</td>\n",
       "    </tr>\n",
       "    <tr>\n",
       "      <th>duration</th>\n",
       "      <td>33.153461</td>\n",
       "    </tr>\n",
       "    <tr>\n",
       "      <th>mar</th>\n",
       "      <td>25.169390</td>\n",
       "    </tr>\n",
       "    <tr>\n",
       "      <th>cellular</th>\n",
       "      <td>18.102162</td>\n",
       "    </tr>\n",
       "    <tr>\n",
       "      <th>apr</th>\n",
       "      <td>17.962494</td>\n",
       "    </tr>\n",
       "    <tr>\n",
       "      <th>oct</th>\n",
       "      <td>17.929595</td>\n",
       "    </tr>\n",
       "    <tr>\n",
       "      <th>jun</th>\n",
       "      <td>17.894808</td>\n",
       "    </tr>\n",
       "    <tr>\n",
       "      <th>telephone</th>\n",
       "      <td>17.405034</td>\n",
       "    </tr>\n",
       "    <tr>\n",
       "      <th>pdays</th>\n",
       "      <td>16.029970</td>\n",
       "    </tr>\n",
       "    <tr>\n",
       "      <th>sep</th>\n",
       "      <td>15.378207</td>\n",
       "    </tr>\n",
       "    <tr>\n",
       "      <th>may</th>\n",
       "      <td>13.701365</td>\n",
       "    </tr>\n",
       "    <tr>\n",
       "      <th>student</th>\n",
       "      <td>12.914798</td>\n",
       "    </tr>\n",
       "    <tr>\n",
       "      <th>feb</th>\n",
       "      <td>11.967207</td>\n",
       "    </tr>\n",
       "    <tr>\n",
       "      <th>age</th>\n",
       "      <td>9.753239</td>\n",
       "    </tr>\n",
       "    <tr>\n",
       "      <th>jul</th>\n",
       "      <td>8.909316</td>\n",
       "    </tr>\n",
       "    <tr>\n",
       "      <th>campaign</th>\n",
       "      <td>8.404133</td>\n",
       "    </tr>\n",
       "    <tr>\n",
       "      <th>day</th>\n",
       "      <td>8.056681</td>\n",
       "    </tr>\n",
       "    <tr>\n",
       "      <th>aug</th>\n",
       "      <td>8.051873</td>\n",
       "    </tr>\n",
       "    <tr>\n",
       "      <th>loan</th>\n",
       "      <td>7.644634</td>\n",
       "    </tr>\n",
       "    <tr>\n",
       "      <th>nov</th>\n",
       "      <td>7.262658</td>\n",
       "    </tr>\n",
       "    <tr>\n",
       "      <th>tertiary</th>\n",
       "      <td>6.462168</td>\n",
       "    </tr>\n",
       "    <tr>\n",
       "      <th>previous</th>\n",
       "      <td>6.238677</td>\n",
       "    </tr>\n",
       "    <tr>\n",
       "      <th>unknown</th>\n",
       "      <td>6.236894</td>\n",
       "    </tr>\n",
       "    <tr>\n",
       "      <th>balance</th>\n",
       "      <td>6.042110</td>\n",
       "    </tr>\n",
       "    <tr>\n",
       "      <th>primary</th>\n",
       "      <td>5.750785</td>\n",
       "    </tr>\n",
       "    <tr>\n",
       "      <th>jan</th>\n",
       "      <td>5.580779</td>\n",
       "    </tr>\n",
       "    <tr>\n",
       "      <th>retired</th>\n",
       "      <td>4.826745</td>\n",
       "    </tr>\n",
       "    <tr>\n",
       "      <th>blue-collar</th>\n",
       "      <td>4.755871</td>\n",
       "    </tr>\n",
       "    <tr>\n",
       "      <th>secondary</th>\n",
       "      <td>4.708860</td>\n",
       "    </tr>\n",
       "    <tr>\n",
       "      <th>married</th>\n",
       "      <td>4.643462</td>\n",
       "    </tr>\n",
       "    <tr>\n",
       "      <th>services</th>\n",
       "      <td>4.524053</td>\n",
       "    </tr>\n",
       "    <tr>\n",
       "      <th>failure</th>\n",
       "      <td>4.431530</td>\n",
       "    </tr>\n",
       "    <tr>\n",
       "      <th>technician</th>\n",
       "      <td>3.660254</td>\n",
       "    </tr>\n",
       "    <tr>\n",
       "      <th>single</th>\n",
       "      <td>3.640997</td>\n",
       "    </tr>\n",
       "    <tr>\n",
       "      <th>housemaid</th>\n",
       "      <td>3.503333</td>\n",
       "    </tr>\n",
       "    <tr>\n",
       "      <th>admin.</th>\n",
       "      <td>3.393125</td>\n",
       "    </tr>\n",
       "    <tr>\n",
       "      <th>entrepreneur</th>\n",
       "      <td>3.294319</td>\n",
       "    </tr>\n",
       "    <tr>\n",
       "      <th>management</th>\n",
       "      <td>3.170151</td>\n",
       "    </tr>\n",
       "    <tr>\n",
       "      <th>self-employed</th>\n",
       "      <td>2.273400</td>\n",
       "    </tr>\n",
       "    <tr>\n",
       "      <th>default</th>\n",
       "      <td>2.081570</td>\n",
       "    </tr>\n",
       "    <tr>\n",
       "      <th>unemployed</th>\n",
       "      <td>1.667607</td>\n",
       "    </tr>\n",
       "  </tbody>\n",
       "</table>\n",
       "</div>"
      ],
      "text/plain": [
       "                   score\n",
       "success        56.446259\n",
       "housing        36.314957\n",
       "duration       33.153461\n",
       "mar            25.169390\n",
       "cellular       18.102162\n",
       "apr            17.962494\n",
       "oct            17.929595\n",
       "jun            17.894808\n",
       "telephone      17.405034\n",
       "pdays          16.029970\n",
       "sep            15.378207\n",
       "may            13.701365\n",
       "student        12.914798\n",
       "feb            11.967207\n",
       "age             9.753239\n",
       "jul             8.909316\n",
       "campaign        8.404133\n",
       "day             8.056681\n",
       "aug             8.051873\n",
       "loan            7.644634\n",
       "nov             7.262658\n",
       "tertiary        6.462168\n",
       "previous        6.238677\n",
       "unknown         6.236894\n",
       "balance         6.042110\n",
       "primary         5.750785\n",
       "jan             5.580779\n",
       "retired         4.826745\n",
       "blue-collar     4.755871\n",
       "secondary       4.708860\n",
       "married         4.643462\n",
       "services        4.524053\n",
       "failure         4.431530\n",
       "technician      3.660254\n",
       "single          3.640997\n",
       "housemaid       3.503333\n",
       "admin.          3.393125\n",
       "entrepreneur    3.294319\n",
       "management      3.170151\n",
       "self-employed   2.273400\n",
       "default         2.081570\n",
       "unemployed      1.667607"
      ]
     },
     "execution_count": 133,
     "metadata": {},
     "output_type": "execute_result"
    }
   ],
   "source": [
    "#importance of all features in descending order\n",
    "data"
   ]
  },
  {
   "cell_type": "markdown",
   "metadata": {
    "colab_type": "text",
    "id": "anlKF_2dLsZ8"
   },
   "source": [
    "# ROC Curve"
   ]
  },
  {
   "cell_type": "code",
   "execution_count": 102,
   "metadata": {
    "colab": {},
    "colab_type": "code",
    "id": "y_dytTkfQJn7"
   },
   "outputs": [],
   "source": [
    "result_table = pd.DataFrame(columns=['classifiers', 'fpr','tpr','auc'])"
   ]
  },
  {
   "cell_type": "code",
   "execution_count": 103,
   "metadata": {
    "colab": {},
    "colab_type": "code",
    "id": "Jv8ueNPoQJoB"
   },
   "outputs": [],
   "source": [
    "# add FPR, TPR and AUC for every algorithm\n",
    "result_table=result_table.append({'classifiers':\"KNN Classifier\",'fpr':fprKNN,'tpr':tprKNN,'auc':aucScoreKNN}, ignore_index=True)\n",
    "result_table=result_table.append({'classifiers':\"Naive Bayes\",'fpr':fprNB,'tpr':tprNB,'auc':aucScoreNB}, ignore_index=True)\n",
    "result_table=result_table.append({'classifiers':\"Logistic Regression\",'fpr':fprLR,'tpr':tprLR,'auc':aucScoreLR}, ignore_index=True)\n",
    "\n",
    "result_table=result_table.append({'classifiers':\"LR with Poly degree 2\",'fpr':fprLRP2,'tpr':tprLRP2,'auc':aucScoreLRP2}, ignore_index=True)\n",
    "result_table=result_table.append({'classifiers':\"LR with Poly degree 3\",'fpr':fprLRP3,'tpr':tprLRP3,'auc':aucScoreLRP3}, ignore_index=True)\n",
    "\n",
    "\n",
    "result_table=result_table.append({'classifiers':\"SVM Classifier\",'fpr':fprSVM,'tpr':tprSVM,'auc':aucScoreSVM}, ignore_index=True)\n",
    "result_table=result_table.append({'classifiers':\"Deciosion Tree\",'fpr':fprDT,'tpr':tprDT,'auc':aucScoreDT}, ignore_index=True)\n",
    "result_table=result_table.append({'classifiers':\"Random Forest\",'fpr':fprRF,'tpr':tprRF,'auc':aucScoreRF}, ignore_index=True)\n",
    "#result_table=result_table.append({'classifiers':\"GBDT Classifier\",'fpr':fprGBDT,'tpr':tprGBDT,'auc':aucScoreGBDT}, ignore_index=True)\n",
    "result_table=result_table.append({'classifiers':\"XGBoost Classifier\",'fpr':fprXGBOOST,'tpr':tprXGBOOST,'auc':aucScoreXGBOOST}, ignore_index=True)"
   ]
  },
  {
   "cell_type": "code",
   "execution_count": 104,
   "metadata": {
    "colab": {},
    "colab_type": "code",
    "id": "YJF-dp4NQJoL"
   },
   "outputs": [],
   "source": [
    "result_table.set_index('classifiers', inplace=True)"
   ]
  },
  {
   "cell_type": "code",
   "execution_count": 105,
   "metadata": {
    "colab": {
     "base_uri": "https://localhost:8080/",
     "height": 414
    },
    "colab_type": "code",
    "executionInfo": {
     "elapsed": 1958,
     "status": "ok",
     "timestamp": 1589477893595,
     "user": {
      "displayName": "Sumedha Borde",
      "photoUrl": "",
      "userId": "11137176663827409941"
     },
     "user_tz": -330
    },
    "id": "wu6nIwdcQJoS",
    "outputId": "7b831006-598d-4c10-ea4d-c0baead1ccca"
   },
   "outputs": [
    {
     "data": {
      "image/png": "[encoded data removed]",
      "text/plain": [
       "<Figure size 576x432 with 1 Axes>"
      ]
     },
     "metadata": {},
     "output_type": "display_data"
    }
   ],
   "source": [
    "# https://abdalimran.github.io/2019-06-01/Drawing-multiple-ROC-Curves-in-a-single-plot\n",
    "\n",
    "# Plotting all ROC in one plot\n",
    "\n",
    "sns.set()\n",
    "\n",
    "fig = plt.figure(figsize=(8,6))\n",
    "\n",
    "for i in result_table.index:\n",
    "    plt.plot(result_table.loc[i]['fpr'], \n",
    "             result_table.loc[i]['tpr'], \n",
    "             label=\"{}, AUC={:.2f}\".format(i, result_table.loc[i]['auc']))\n",
    "    \n",
    "plt.plot([0,1], [0,1], color='orange', linestyle='--')\n",
    "\n",
    "plt.xticks(np.arange(0.0, 1.1, step=0.1))\n",
    "plt.xlabel(\"Flase Positive Rate\", fontsize=15)\n",
    "\n",
    "plt.yticks(np.arange(0.0, 1.1, step=0.1))\n",
    "plt.ylabel(\"True Positive Rate\", fontsize=15)\n",
    "\n",
    "plt.title('ROC Curve Analysis', fontweight='bold', fontsize=15)\n",
    "plt.legend(prop={'size':13}, loc='lower right')\n",
    "\n",
    "plt.show()"
   ]
  },
  {
   "cell_type": "markdown",
   "metadata": {},
   "source": [
    "**NOTES:**\n",
    "1. Random Forest and XGBOOST has best AUC\n",
    "2. Many of them have gives more or less same value of AUC\n"
   ]
  }
 ],
 "metadata": {
  "accelerator": "GPU",
  "colab": {
   "name": "ALLalcoholic.ipynb",
   "provenance": [],
   "toc_visible": true
  },
  "kernelspec": {
   "display_name": "Python (venv)",
   "language": "python",
   "name": "venv"
  },
  "language_info": {
   "codemirror_mode": {
    "name": "ipython",
    "version": 3
   },
   "file_extension": ".py",
   "mimetype": "text/x-python",
   "name": "python",
   "nbconvert_exporter": "python",
   "pygments_lexer": "ipython3",
   "version": "3.10.12"
  }
 },
 "nbformat": 4,
 "nbformat_minor": 4
}
